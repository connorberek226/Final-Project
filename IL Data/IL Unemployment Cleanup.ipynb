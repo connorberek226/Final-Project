{
 "cells": [
  {
   "cell_type": "code",
   "execution_count": 1,
   "metadata": {},
   "outputs": [],
   "source": [
    "import pandas as pd"
   ]
  },
  {
   "cell_type": "code",
   "execution_count": 2,
   "metadata": {},
   "outputs": [],
   "source": [
    "# SQLAlchemy\n",
    "from sqlalchemy import create_engine\n",
    "\n",
    "# Path to sqlite\n",
    "database_path = \"../Xi/states_HPI_disa_weather_final2.csv\"\n",
    "\n",
    "# Read database_path and store into Pandas data frame\n",
    "IL_data = pd.read_csv(database_path)"
   ]
  },
  {
   "cell_type": "code",
   "execution_count": 3,
   "metadata": {},
   "outputs": [
    {
     "name": "stdout",
     "output_type": "stream",
     "text": [
      "   State  Year  Total_Disaster  InterestRate  Unemployment Rate   HomeOwnRate  \\\n",
      "0     CA  1996            11.0         0.078               0.073        0.550   \n",
      "1     CA  1997            20.0         0.076               0.064        0.557   \n",
      "2     CA  1998            15.0         0.069               0.059        0.560   \n",
      "3     CA  1999            85.0         0.074               0.052        0.557   \n",
      "4     CA  2000            32.0         0.081               0.049        0.571   \n",
      "..   ...   ...             ...           ...                 ...          ...   \n",
      "82    CA  1995             NaN         0.079               0.079        0.554   \n",
      "83    CA  1994             NaN         0.084               0.086        0.555   \n",
      "84    CA  1993             NaN         0.073               0.095        0.560   \n",
      "85    CA  1992             NaN         0.084               0.093        0.553   \n",
      "86    CA  1991             NaN         0.093               0.077        0.545   \n",
      "\n",
      "    Population  MediumIncome         HPI  Total (C)  Total (F)  \\\n",
      "0     31780829         63176  330.618545      180.0      713.0   \n",
      "1     32217708         63245  338.655091      175.0      707.0   \n",
      "2     32682794         64349  355.755536      162.0      680.0   \n",
      "3     33145121         67156  376.622500      171.0      693.0   \n",
      "4     33987977         69696  439.172182      173.0      703.0   \n",
      "..         ...           ...         ...        ...        ...   \n",
      "82    31493525         61846  329.986000      175.0      704.0   \n",
      "83    31317179         60464  332.747455      168.0      693.0   \n",
      "84    31147208         59529  338.246727      168.0      690.0   \n",
      "85    30875920         62517  350.106852      176.0      709.0   \n",
      "86    30414114         61797  350.527407      168.0      692.0   \n",
      "\n",
      "    Average Temperature (F)  Average Temperature (C)  \n",
      "0                     59.42                    15.00  \n",
      "1                     58.92                    14.58  \n",
      "2                     56.67                    13.50  \n",
      "3                     57.75                    14.25  \n",
      "4                     58.58                    14.42  \n",
      "..                      ...                      ...  \n",
      "82                    58.67                    14.58  \n",
      "83                    57.75                    14.00  \n",
      "84                    57.50                    14.00  \n",
      "85                    59.08                    14.67  \n",
      "86                    57.67                    14.00  \n",
      "\n",
      "[87 rows x 13 columns]\n"
     ]
    }
   ],
   "source": [
    "print(IL_data)"
   ]
  },
  {
   "cell_type": "code",
   "execution_count": 4,
   "metadata": {},
   "outputs": [
    {
     "name": "stdout",
     "output_type": "stream",
     "text": [
      "   State  Year  Total_Disaster  InterestRate  Unemployment Rate   HomeOwnRate  \\\n",
      "0     CA  1996            11.0         0.078               0.073        0.550   \n",
      "1     CA  1997            20.0         0.076               0.064        0.557   \n",
      "2     CA  1998            15.0         0.069               0.059        0.560   \n",
      "3     CA  1999            85.0         0.074               0.052        0.557   \n",
      "4     CA  2000            32.0         0.081               0.049        0.571   \n",
      "..   ...   ...             ...           ...                 ...          ...   \n",
      "82    CA  1995             NaN         0.079               0.079        0.554   \n",
      "83    CA  1994             NaN         0.084               0.086        0.555   \n",
      "84    CA  1993             NaN         0.073               0.095        0.560   \n",
      "85    CA  1992             NaN         0.084               0.093        0.553   \n",
      "86    CA  1991             NaN         0.093               0.077        0.545   \n",
      "\n",
      "    Population  MediumIncome         HPI  Total (C)  Total (F)  \\\n",
      "0     31780829         63176  330.618545      180.0      713.0   \n",
      "1     32217708         63245  338.655091      175.0      707.0   \n",
      "2     32682794         64349  355.755536      162.0      680.0   \n",
      "3     33145121         67156  376.622500      171.0      693.0   \n",
      "4     33987977         69696  439.172182      173.0      703.0   \n",
      "..         ...           ...         ...        ...        ...   \n",
      "82    31493525         61846  329.986000      175.0      704.0   \n",
      "83    31317179         60464  332.747455      168.0      693.0   \n",
      "84    31147208         59529  338.246727      168.0      690.0   \n",
      "85    30875920         62517  350.106852      176.0      709.0   \n",
      "86    30414114         61797  350.527407      168.0      692.0   \n",
      "\n",
      "    Average Temperature (F)  Average Temperature (C)  \n",
      "0                     59.42                    15.00  \n",
      "1                     58.92                    14.58  \n",
      "2                     56.67                    13.50  \n",
      "3                     57.75                    14.25  \n",
      "4                     58.58                    14.42  \n",
      "..                      ...                      ...  \n",
      "82                    58.67                    14.58  \n",
      "83                    57.75                    14.00  \n",
      "84                    57.50                    14.00  \n",
      "85                    59.08                    14.67  \n",
      "86                    57.67                    14.00  \n",
      "\n",
      "[87 rows x 13 columns]\n"
     ]
    }
   ],
   "source": [
    "df_new = IL_data.rename(columns={'Date': 'Date','BLOO017URN': 'Bloomington', 'CHAM517URN': 'Champaign-Urbana', 'STLURN': 'St. Louis', 'CHIC917URN': 'Chicago-Naperville-Elgin', 'DANV117URN': 'Danville', 'DAVE317URN': 'Davenport-Moline-Rock Island', 'DECA517URN': 'Decatur', 'KANK117URN': 'Kankakee', 'PEOR917URN': 'Peoria', 'ROCK417URN': 'Rockford', 'SPRI117URN': 'Springfield'})\n",
    "print(df_new)\n",
    "                   "
   ]
  },
  {
   "cell_type": "code",
   "execution_count": null,
   "metadata": {},
   "outputs": [],
   "source": []
  }
 ],
 "metadata": {
  "kernelspec": {
   "display_name": "Python 3",
   "language": "python",
   "name": "python3"
  },
  "language_info": {
   "codemirror_mode": {
    "name": "ipython",
    "version": 3
   },
   "file_extension": ".py",
   "mimetype": "text/x-python",
   "name": "python",
   "nbconvert_exporter": "python",
   "pygments_lexer": "ipython3",
   "version": "3.7.6"
  }
 },
 "nbformat": 4,
 "nbformat_minor": 4
}
