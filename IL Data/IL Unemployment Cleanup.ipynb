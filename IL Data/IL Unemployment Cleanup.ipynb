{
 "cells": [
  {
   "cell_type": "code",
   "execution_count": 1,
   "metadata": {},
   "outputs": [],
   "source": [
    "import pandas as pd"
   ]
  },
  {
   "cell_type": "code",
   "execution_count": 2,
   "metadata": {},
   "outputs": [],
   "source": [
    "# SQLAlchemy\n",
    "from sqlalchemy import create_engine\n",
    "\n",
    "# Path to sqlite\n",
    "database_path = \"../IL Data/IL Unemployment Rates 1990-2020.csv\"\n",
    "\n",
    "# Read database_path and store into Pandas data frame\n",
    "IL_data = pd.read_csv(database_path)"
   ]
  },
  {
   "cell_type": "code",
   "execution_count": 3,
   "metadata": {},
   "outputs": [
    {
     "name": "stdout",
     "output_type": "stream",
     "text": [
      "         DATE  BLOO017URN  CHAM517URN  STLURN  CHIC917URN  DANV117URN  \\\n",
      "0    1/1/1990         4.1         4.0     5.9         6.6         8.7   \n",
      "1    2/1/1990         4.3         3.9     6.1         6.5         9.4   \n",
      "2    3/1/1990         3.8         3.2     6.0         6.3         9.5   \n",
      "3    4/1/1990         3.4         2.8     5.5         6.3         7.6   \n",
      "4    5/1/1990         3.0         2.8     5.1         6.1         7.5   \n",
      "..        ...         ...         ...     ...         ...         ...   \n",
      "364  5/1/2020        11.1        10.1    11.3        15.3        14.1   \n",
      "365  6/1/2020        10.5        10.2     9.7        15.5        12.3   \n",
      "366  7/1/2020         8.1         8.0     8.2        12.1        10.1   \n",
      "367  8/1/2020         7.4         7.5     8.0        11.8         9.5   \n",
      "368  9/1/2020         6.3         6.0     5.5        10.5         8.4   \n",
      "\n",
      "     DAVE317URN  DECA517URN  KANK117URN  PEOR917URN  ROCK417URN  SPRI117URN  \n",
      "0           5.6         6.5         7.3         5.3         7.7         4.3  \n",
      "1           5.9         7.4         7.8         5.7         5.9         4.6  \n",
      "2           5.3         6.4         6.9         5.1         5.4         3.8  \n",
      "3           4.8         5.9         6.3         4.7         4.9         3.4  \n",
      "4           4.3         5.6         5.8         4.2         4.7         3.0  \n",
      "..          ...         ...         ...         ...         ...         ...  \n",
      "364        14.4        15.0        13.5        15.4        19.5        13.1  \n",
      "365        11.5        14.4        12.0        13.5        15.9        11.7  \n",
      "366         9.4        12.2         9.7        10.8        14.1         9.2  \n",
      "367         8.5        11.3         9.1         9.8        11.5         8.7  \n",
      "368         7.1        10.1         8.1         8.5        10.0         7.7  \n",
      "\n",
      "[369 rows x 12 columns]\n"
     ]
    }
   ],
   "source": [
    "print(IL_data)"
   ]
  },
  {
   "cell_type": "code",
   "execution_count": null,
   "metadata": {},
   "outputs": [],
   "source": [
    "df_new = df.rename(columns={'Date': 'Date','BLOO017URN': 'Bloomington', 'CHAM517URN': 'Champaign-Urbana', 'STLURN': 'St. Louis', 'CHIC917URN': 'Chicago-Naperville-Elgin', 'DANV117URN': 'Danville', 'DAVE317URN': 'Davenport-Moline-Rock Island', 'DECA517URN': 'Decatur', 'KANK117URN': 'Kankakee', 'PEOR917URN': 'Peoria', 'ROCK417URN': 'Rockford', 'SPRI117URN': 'Springfield'})\n",
    "print(df_new)\n",
    "                   "
   ]
  }
 ],
 "metadata": {
  "kernelspec": {
   "display_name": "Python 3",
   "language": "python",
   "name": "python3"
  },
  "language_info": {
   "codemirror_mode": {
    "name": "ipython",
    "version": 3
   },
   "file_extension": ".py",
   "mimetype": "text/x-python",
   "name": "python",
   "nbconvert_exporter": "python",
   "pygments_lexer": "ipython3",
   "version": "3.7.6"
  }
 },
 "nbformat": 4,
 "nbformat_minor": 4
}
