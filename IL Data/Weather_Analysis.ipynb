{
 "cells": [
  {
   "cell_type": "markdown",
   "metadata": {},
   "source": [
    "# Samples"
   ]
  },
  {
   "cell_type": "code",
   "execution_count": null,
   "metadata": {},
   "outputs": [],
   "source": [
    "# Dependencies\n",
    "import pandas as pd\n",
    "import matplotlib.pyplot as plt\n",
    "import scipy.stats as sts\n",
    "import numpy as np"
   ]
  },
  {
   "cell_type": "code",
   "execution_count": null,
   "metadata": {},
   "outputs": [],
   "source": [
    "# Read in the LAX temperature data\n",
    "temperature_df = pd.read_csv('../Resources/lax_temperature.csv')\n",
    "temperatures = temperature_df['HourlyDryBulbTemperature']\n",
    "temperatures"
   ]
  },
  {
   "cell_type": "code",
   "execution_count": null,
   "metadata": {},
   "outputs": [],
   "source": [
    "# Demonstrate calculating measures of central tendency\n",
    "mean_numpy = np.mean(temperatures)\n",
    "print(f\"The mean temperature at the LAX airport is {mean_numpy}\")\n",
    "\n",
    "median_numpy = np.median(temperatures)\n",
    "print(f\"The median temperature at the LAX airport is {median_numpy}\")\n",
    "\n",
    "mode_scipy = sts.mode(temperatures)\n",
    "print(f\"The mode temperature at the LAX airport is {mode_scipy}\")"
   ]
  },
  {
   "cell_type": "code",
   "execution_count": null,
   "metadata": {},
   "outputs": [],
   "source": [
    "# Characterize the data set using matplotlib and stats.normaltest\n",
    "plt.hist(temperatures, bins=40)\n",
    "plt.xlabel('Temperature (°F)')\n",
    "plt.ylabel('Counts')\n",
    "plt.show()\n",
    "print(sts.normaltest(temperatures.sample(50)))"
   ]
  },
  {
   "cell_type": "code",
   "execution_count": null,
   "metadata": {},
   "outputs": [],
   "source": [
    "# Demonstrate calculating the variance and standard deviation using the different modules\n",
    "var_numpy = np.var(temperatures,ddof = 0)\n",
    "print(f\"The population variance using the NumPy module is {var_numpy}\")\n",
    "\n",
    "sd_numpy = np.std(temperatures,ddof = 0)\n",
    "print(f\"The population standard deviation using the NumPy module is {sd_numpy}\")"
   ]
  },
  {
   "cell_type": "code",
   "execution_count": null,
   "metadata": {},
   "outputs": [],
   "source": [
    "# Calculate the 68-95-99.7 rule using the standard deviation\n",
    "print(f\"Roughly 68% of the data is between {round(mean_numpy-sd_numpy,3)} and {round(mean_numpy+sd_numpy,3)}\")\n",
    "print(f\"Roughly 95% of the data is between {round(mean_numpy-2*sd_numpy,3)} and {round(mean_numpy+2*sd_numpy,3)}\")\n",
    "print(f\"Roughly 99.7% of the data is between {round(mean_numpy-3*sd_numpy,3)} and {round(mean_numpy+3*sd_numpy,3)}\")"
   ]
  },
  {
   "cell_type": "code",
   "execution_count": null,
   "metadata": {},
   "outputs": [],
   "source": [
    "# Demonstrate calculating the z-scores using SciPy\n",
    "z_scipy = sts.zscore(temperatures)\n",
    "print(f\"The z-scores using the SciPy module are {z_scipy}\")"
   ]
  },
  {
   "cell_type": "markdown",
   "metadata": {},
   "source": [
    "# Summary Stats"
   ]
  },
  {
   "cell_type": "code",
   "execution_count": null,
   "metadata": {},
   "outputs": [],
   "source": [
    "# Dependencies\n",
    "import pandas as pd\n",
    "import matplotlib.pyplot as plt\n",
    "import scipy.stats as sts"
   ]
  },
  {
   "cell_type": "code",
   "execution_count": null,
   "metadata": {},
   "outputs": [],
   "source": [
    "# Read in the california housing data set\n",
    "california_data = pd.read_csv('../Resources/California_Housing.csv')\n",
    "california_data.head()"
   ]
  },
  {
   "cell_type": "code",
   "execution_count": null,
   "metadata": {},
   "outputs": [],
   "source": [
    "# Determine which measure of central tendency is most appropriate to describe the Population\n",
    "plt.hist(california_data['Population'])\n",
    "plt.xlabel('Population')\n",
    "plt.ylabel('Counts')\n",
    "plt.show()\n",
    "print(california_data['Population'].mean())\n",
    "print(california_data['Population'].median())\n",
    "print(california_data['Population'].mode())"
   ]
  },
  {
   "cell_type": "code",
   "execution_count": null,
   "metadata": {},
   "outputs": [],
   "source": [
    "# Determine if the house age in California is normally distributed\n",
    "plt.hist(california_data['HouseAge'])\n",
    "plt.xlabel('House Age (years)')\n",
    "plt.ylabel('Counts')\n",
    "plt.show()\n",
    "print(sts.normaltest(california_data[\"HouseAge\"].sample(100)))"
   ]
  },
  {
   "cell_type": "code",
   "execution_count": null,
   "metadata": {},
   "outputs": [],
   "source": [
    "# Determine if there are any potential outliers in the average occupancy in California\n",
    "quartiles = california_data['AveOccup'].quantile([.25,.5,.75])\n",
    "lowerq = quartiles[0.25]\n",
    "upperq = quartiles[0.75]\n",
    "iqr = upperq-lowerq\n",
    "\n",
    "print(f\"The lower quartile of occupancy is: {lowerq}\")\n",
    "print(f\"The upper quartile of occupancy is: {upperq}\")\n",
    "print(f\"The interquartile range of occupancy is: {iqr}\")\n",
    "print(f\"The the median of occupancy is: {quartiles[0.5]} \")\n",
    "\n",
    "lower_bound = lowerq - (1.5*iqr)\n",
    "upper_bound = upperq + (1.5*iqr)\n",
    "print(f\"Values below {lower_bound} could be outliers.\")\n",
    "print(f\"Values above {upper_bound} could be outliers.\")\n",
    "\n",
    "outlier_occupancy = california_data.loc[(california_data['AveOccup'] < lower_bound) | (california_data['AveOccup'] > upper_bound)]\n",
    "outlier_occupancy"
   ]
  },
  {
   "cell_type": "code",
   "execution_count": null,
   "metadata": {},
   "outputs": [],
   "source": [
    "# With the potential outliers, what is the lowest and highest median income (in $1000s) observed?\n",
    "print(f\"The minimum median income of the potential outliers is {outlier_occupancy['MedInc'].min()}\")\n",
    "print(f\"The maximum median income of the potential outliers is {outlier_occupancy['MedInc'].max()}\")"
   ]
  },
  {
   "cell_type": "code",
   "execution_count": null,
   "metadata": {},
   "outputs": [],
   "source": [
    "# Bonus - plot the latitude and longitude of the California housing data using Matplotlib, color the data points using the median income of the block.\n",
    "plt.scatter(california_data['Longitude'],california_data['Latitude'],c=california_data['MedInc'])\n",
    "clb = plt.colorbar()\n",
    "plt.xlabel(\"Longitude\")\n",
    "plt.ylabel(\"Latitude\")\n",
    "clb.set_label(\"Median Income\")\n",
    "plt.show()"
   ]
  },
  {
   "cell_type": "markdown",
   "metadata": {},
   "source": [
    "# Correlations"
   ]
  },
  {
   "cell_type": "code",
   "execution_count": null,
   "metadata": {},
   "outputs": [],
   "source": [
    "# Dependencies\n",
    "import pandas as pd\n",
    "import matplotlib.pyplot as plt\n",
    "import scipy.stats as st"
   ]
  },
  {
   "cell_type": "code",
   "execution_count": null,
   "metadata": {},
   "outputs": [],
   "source": [
    "# Import the WHO dataset, drop missing data\n",
    "who_data = pd.read_csv('../Resources/WHO_data.csv')\n",
    "who_data = who_data.dropna()\n",
    "who_data.head()"
   ]
  },
  {
   "cell_type": "code",
   "execution_count": null,
   "metadata": {},
   "outputs": [],
   "source": [
    "# For the first example, determine which pairs of factors are correlated. \n",
    "plt.scatter(who_data.iloc[:,1],who_data.iloc[:,8])\n",
    "plt.xlabel('Income Per Capita')\n",
    "plt.ylabel('Average Alcohol Consumed Per Person Per Year (L)')\n",
    "plt.show()"
   ]
  },
  {
   "cell_type": "code",
   "execution_count": null,
   "metadata": {},
   "outputs": [],
   "source": [
    "plt.scatter(who_data.iloc[:,3],who_data.iloc[:,10])\n",
    "plt.xlabel('Population Median Age')\n",
    "plt.ylabel('Cell Phones Per 100 People')\n",
    "plt.show()"
   ]
  },
  {
   "cell_type": "code",
   "execution_count": null,
   "metadata": {},
   "outputs": [],
   "source": [
    "plt.scatter(who_data.iloc[:,5],who_data.iloc[:,7])\n",
    "plt.xlabel('% Government Expenditure on Health')\n",
    "plt.ylabel('Male Life Expectancy')\n",
    "plt.show()"
   ]
  },
  {
   "cell_type": "code",
   "execution_count": null,
   "metadata": {},
   "outputs": [],
   "source": [
    "plt.scatter(who_data.iloc[:,1],who_data.iloc[:,12])\n",
    "plt.xlabel('Income Per Capita')\n",
    "plt.ylabel('% Measles Immunization')\n",
    "plt.show()"
   ]
  },
  {
   "cell_type": "code",
   "execution_count": null,
   "metadata": {},
   "outputs": [],
   "source": [
    "# The next example will compute the Pearson correlation coefficient between \"Income per Capita\" and \"Average Alcohol Consumed\"\n",
    "income = who_data.iloc[:,1]\n",
    "alcohol = who_data.iloc[:,8]\n",
    "correlation = st.pearsonr(income,alcohol)\n",
    "print(f\"The correlation between both factors is {round(correlation[0],2)}\")"
   ]
  },
  {
   "cell_type": "code",
   "execution_count": null,
   "metadata": {},
   "outputs": [],
   "source": [
    "# Compare the calcualted Pearson's r to the plots\n",
    "plt.scatter(income,alcohol)\n",
    "plt.xlabel('Income Per Capita')\n",
    "plt.ylabel('Average Alcohol Consumed Per Person Per Year (L)')\n",
    "print(f\"The correlation between both factors is {round(correlation[0],2)}\")\n",
    "plt.show()"
   ]
  },
  {
   "cell_type": "code",
   "execution_count": null,
   "metadata": {},
   "outputs": [],
   "source": [
    "age = who_data.iloc[:,3]\n",
    "cell_phones = who_data.iloc[:,10]\n",
    "correlation = st.pearsonr(age,cell_phones)\n",
    "plt.scatter(age,cell_phones)\n",
    "plt.xlabel('Population Median Age')\n",
    "plt.ylabel('Cell Phones Per 100 People')\n",
    "print(f\"The correlation between both factors is {round(correlation[0],2)}\")\n",
    "plt.show()"
   ]
  },
  {
   "cell_type": "code",
   "execution_count": null,
   "metadata": {},
   "outputs": [],
   "source": [
    "government = who_data.iloc[:,5]\n",
    "life = who_data.iloc[:,7]\n",
    "correlation = st.pearsonr(government,life)\n",
    "plt.scatter(government,life)\n",
    "plt.xlabel('% Government Expenditure on Health')\n",
    "plt.ylabel('Male Life Expectancy')\n",
    "print(f\"The correlation between both factors is {round(correlation[0],2)}\")\n",
    "plt.show()"
   ]
  },
  {
   "cell_type": "code",
   "execution_count": null,
   "metadata": {},
   "outputs": [],
   "source": [
    "income = who_data.iloc[:,1]\n",
    "measles = who_data.iloc[:,12]\n",
    "correlation = st.pearsonr(income,measles)\n",
    "plt.scatter(income,measles)\n",
    "plt.xlabel('Income Per Capita')\n",
    "plt.ylabel('% Measles Immunization')\n",
    "print(f\"The correlation between both factors is {round(correlation[0],2)}\")\n",
    "plt.show()"
   ]
  },
  {
   "cell_type": "markdown",
   "metadata": {},
   "source": [
    "# Illinois Analysis"
   ]
  },
  {
   "cell_type": "markdown",
   "metadata": {},
   "source": [
    "# Average Temperature vs. Median Household Income, HPI, Home Owner Rate, Unemployment Rate, Population, Interest Rate Correlation "
   ]
  },
  {
   "cell_type": "code",
   "execution_count": null,
   "metadata": {},
   "outputs": [],
   "source": [
    "# Anna to add plot"
   ]
  },
  {
   "cell_type": "markdown",
   "metadata": {},
   "source": [
    "# Florida Analysis"
   ]
  },
  {
   "cell_type": "markdown",
   "metadata": {},
   "source": [
    "# Average Temperature vs. Median Household Income, HPI, Home Owner Rate, Unemployment Rate, Population, Interest Rate Correlation"
   ]
  },
  {
   "cell_type": "code",
   "execution_count": 3,
   "metadata": {},
   "outputs": [],
   "source": [
    "# Anna to add plot"
   ]
  },
  {
   "cell_type": "markdown",
   "metadata": {},
   "source": [
    "# California Analysis"
   ]
  },
  {
   "cell_type": "markdown",
   "metadata": {},
   "source": [
    "# Average Temperature vs. Median Household Income, HPI, Home Owner Rate, Unemployment Rate, Population, Interest Rate Correlation"
   ]
  },
  {
   "cell_type": "code",
   "execution_count": null,
   "metadata": {},
   "outputs": [],
   "source": [
    "# Anna to add plot"
   ]
  }
 ],
 "metadata": {
  "kernelspec": {
   "display_name": "Python 3",
   "language": "python",
   "name": "python3"
  },
  "language_info": {
   "codemirror_mode": {
    "name": "ipython",
    "version": 3
   },
   "file_extension": ".py",
   "mimetype": "text/x-python",
   "name": "python",
   "nbconvert_exporter": "python",
   "pygments_lexer": "ipython3",
   "version": "3.7.6"
  }
 },
 "nbformat": 4,
 "nbformat_minor": 4
}
