{
 "cells": [
  {
   "cell_type": "markdown",
   "metadata": {},
   "source": [
    "# Illinois Analysis"
   ]
  },
  {
   "cell_type": "code",
   "execution_count": 2,
   "metadata": {},
   "outputs": [],
   "source": [
    "import pandas as pd\n",
    "import matplotlib.pyplot as plt\n",
    "import scipy.stats as st\n",
    "from matplotlib import pyplot as plt\n",
    "from scipy.stats import linregress\n",
    "import numpy as np\n",
    "from sklearn import datasets"
   ]
  },
  {
   "cell_type": "code",
   "execution_count": 3,
   "metadata": {},
   "outputs": [
    {
     "data": {
      "text/html": [
       "<div>\n",
       "<style scoped>\n",
       "    .dataframe tbody tr th:only-of-type {\n",
       "        vertical-align: middle;\n",
       "    }\n",
       "\n",
       "    .dataframe tbody tr th {\n",
       "        vertical-align: top;\n",
       "    }\n",
       "\n",
       "    .dataframe thead th {\n",
       "        text-align: right;\n",
       "    }\n",
       "</style>\n",
       "<table border=\"1\" class=\"dataframe\">\n",
       "  <thead>\n",
       "    <tr style=\"text-align: right;\">\n",
       "      <th></th>\n",
       "      <th>State</th>\n",
       "      <th>Year</th>\n",
       "      <th>Total_Disaster</th>\n",
       "      <th>InterestRate</th>\n",
       "      <th>Unemployment Rate</th>\n",
       "      <th>HomeOwnRate</th>\n",
       "      <th>Population</th>\n",
       "      <th>MediumIncome</th>\n",
       "      <th>HPI</th>\n",
       "      <th>Average Temperature (F)</th>\n",
       "      <th>Average Temperature (C)</th>\n",
       "    </tr>\n",
       "  </thead>\n",
       "  <tbody>\n",
       "    <tr>\n",
       "      <th>0</th>\n",
       "      <td>CA</td>\n",
       "      <td>1996</td>\n",
       "      <td>11.0</td>\n",
       "      <td>0.078</td>\n",
       "      <td>0.073</td>\n",
       "      <td>0.550</td>\n",
       "      <td>31780829</td>\n",
       "      <td>63176</td>\n",
       "      <td>330.618545</td>\n",
       "      <td>59.42</td>\n",
       "      <td>15.00</td>\n",
       "    </tr>\n",
       "    <tr>\n",
       "      <th>1</th>\n",
       "      <td>CA</td>\n",
       "      <td>1997</td>\n",
       "      <td>20.0</td>\n",
       "      <td>0.076</td>\n",
       "      <td>0.064</td>\n",
       "      <td>0.557</td>\n",
       "      <td>32217708</td>\n",
       "      <td>63245</td>\n",
       "      <td>338.655091</td>\n",
       "      <td>58.92</td>\n",
       "      <td>14.58</td>\n",
       "    </tr>\n",
       "    <tr>\n",
       "      <th>2</th>\n",
       "      <td>CA</td>\n",
       "      <td>1998</td>\n",
       "      <td>15.0</td>\n",
       "      <td>0.069</td>\n",
       "      <td>0.059</td>\n",
       "      <td>0.560</td>\n",
       "      <td>32682794</td>\n",
       "      <td>64349</td>\n",
       "      <td>355.755536</td>\n",
       "      <td>56.67</td>\n",
       "      <td>13.50</td>\n",
       "    </tr>\n",
       "    <tr>\n",
       "      <th>3</th>\n",
       "      <td>CA</td>\n",
       "      <td>1999</td>\n",
       "      <td>85.0</td>\n",
       "      <td>0.074</td>\n",
       "      <td>0.052</td>\n",
       "      <td>0.557</td>\n",
       "      <td>33145121</td>\n",
       "      <td>67156</td>\n",
       "      <td>376.622500</td>\n",
       "      <td>57.75</td>\n",
       "      <td>14.25</td>\n",
       "    </tr>\n",
       "    <tr>\n",
       "      <th>4</th>\n",
       "      <td>CA</td>\n",
       "      <td>2000</td>\n",
       "      <td>32.0</td>\n",
       "      <td>0.081</td>\n",
       "      <td>0.049</td>\n",
       "      <td>0.571</td>\n",
       "      <td>33987977</td>\n",
       "      <td>69696</td>\n",
       "      <td>439.172182</td>\n",
       "      <td>58.58</td>\n",
       "      <td>14.42</td>\n",
       "    </tr>\n",
       "    <tr>\n",
       "      <th>...</th>\n",
       "      <td>...</td>\n",
       "      <td>...</td>\n",
       "      <td>...</td>\n",
       "      <td>...</td>\n",
       "      <td>...</td>\n",
       "      <td>...</td>\n",
       "      <td>...</td>\n",
       "      <td>...</td>\n",
       "      <td>...</td>\n",
       "      <td>...</td>\n",
       "      <td>...</td>\n",
       "    </tr>\n",
       "    <tr>\n",
       "      <th>82</th>\n",
       "      <td>CA</td>\n",
       "      <td>1995</td>\n",
       "      <td>NaN</td>\n",
       "      <td>0.079</td>\n",
       "      <td>0.079</td>\n",
       "      <td>0.554</td>\n",
       "      <td>31493525</td>\n",
       "      <td>61846</td>\n",
       "      <td>329.986000</td>\n",
       "      <td>58.67</td>\n",
       "      <td>14.58</td>\n",
       "    </tr>\n",
       "    <tr>\n",
       "      <th>83</th>\n",
       "      <td>CA</td>\n",
       "      <td>1994</td>\n",
       "      <td>NaN</td>\n",
       "      <td>0.084</td>\n",
       "      <td>0.086</td>\n",
       "      <td>0.555</td>\n",
       "      <td>31317179</td>\n",
       "      <td>60464</td>\n",
       "      <td>332.747455</td>\n",
       "      <td>57.75</td>\n",
       "      <td>14.00</td>\n",
       "    </tr>\n",
       "    <tr>\n",
       "      <th>84</th>\n",
       "      <td>CA</td>\n",
       "      <td>1993</td>\n",
       "      <td>NaN</td>\n",
       "      <td>0.073</td>\n",
       "      <td>0.095</td>\n",
       "      <td>0.560</td>\n",
       "      <td>31147208</td>\n",
       "      <td>59529</td>\n",
       "      <td>338.246727</td>\n",
       "      <td>57.50</td>\n",
       "      <td>14.00</td>\n",
       "    </tr>\n",
       "    <tr>\n",
       "      <th>85</th>\n",
       "      <td>CA</td>\n",
       "      <td>1992</td>\n",
       "      <td>NaN</td>\n",
       "      <td>0.084</td>\n",
       "      <td>0.093</td>\n",
       "      <td>0.553</td>\n",
       "      <td>30875920</td>\n",
       "      <td>62517</td>\n",
       "      <td>350.106852</td>\n",
       "      <td>59.08</td>\n",
       "      <td>14.67</td>\n",
       "    </tr>\n",
       "    <tr>\n",
       "      <th>86</th>\n",
       "      <td>CA</td>\n",
       "      <td>1991</td>\n",
       "      <td>NaN</td>\n",
       "      <td>0.093</td>\n",
       "      <td>0.077</td>\n",
       "      <td>0.545</td>\n",
       "      <td>30414114</td>\n",
       "      <td>61797</td>\n",
       "      <td>350.527407</td>\n",
       "      <td>57.67</td>\n",
       "      <td>14.00</td>\n",
       "    </tr>\n",
       "  </tbody>\n",
       "</table>\n",
       "<p>87 rows × 11 columns</p>\n",
       "</div>"
      ],
      "text/plain": [
       "   State  Year  Total_Disaster  InterestRate  Unemployment Rate   HomeOwnRate  \\\n",
       "0     CA  1996            11.0         0.078               0.073        0.550   \n",
       "1     CA  1997            20.0         0.076               0.064        0.557   \n",
       "2     CA  1998            15.0         0.069               0.059        0.560   \n",
       "3     CA  1999            85.0         0.074               0.052        0.557   \n",
       "4     CA  2000            32.0         0.081               0.049        0.571   \n",
       "..   ...   ...             ...           ...                 ...          ...   \n",
       "82    CA  1995             NaN         0.079               0.079        0.554   \n",
       "83    CA  1994             NaN         0.084               0.086        0.555   \n",
       "84    CA  1993             NaN         0.073               0.095        0.560   \n",
       "85    CA  1992             NaN         0.084               0.093        0.553   \n",
       "86    CA  1991             NaN         0.093               0.077        0.545   \n",
       "\n",
       "    Population  MediumIncome         HPI  Average Temperature (F)  \\\n",
       "0     31780829         63176  330.618545                    59.42   \n",
       "1     32217708         63245  338.655091                    58.92   \n",
       "2     32682794         64349  355.755536                    56.67   \n",
       "3     33145121         67156  376.622500                    57.75   \n",
       "4     33987977         69696  439.172182                    58.58   \n",
       "..         ...           ...         ...                      ...   \n",
       "82    31493525         61846  329.986000                    58.67   \n",
       "83    31317179         60464  332.747455                    57.75   \n",
       "84    31147208         59529  338.246727                    57.50   \n",
       "85    30875920         62517  350.106852                    59.08   \n",
       "86    30414114         61797  350.527407                    57.67   \n",
       "\n",
       "    Average Temperature (C)  \n",
       "0                     15.00  \n",
       "1                     14.58  \n",
       "2                     13.50  \n",
       "3                     14.25  \n",
       "4                     14.42  \n",
       "..                      ...  \n",
       "82                    14.58  \n",
       "83                    14.00  \n",
       "84                    14.00  \n",
       "85                    14.67  \n",
       "86                    14.00  \n",
       "\n",
       "[87 rows x 11 columns]"
      ]
     },
     "execution_count": 3,
     "metadata": {},
     "output_type": "execute_result"
    }
   ],
   "source": [
    "# SQLAlchemy\n",
    "from sqlalchemy import create_engine\n",
    "\n",
    "# Path to sqlite\n",
    "database_path = \"../states_HPI_disa_weather_final2.csv\"\n",
    "\n",
    "# Read database_path and store into Pandas data frame\n",
    "final_data = pd.read_csv(database_path)\n",
    "\n",
    "final_data"
   ]
  },
  {
   "cell_type": "code",
   "execution_count": 4,
   "metadata": {},
   "outputs": [
    {
     "data": {
      "text/html": [
       "<div>\n",
       "<style scoped>\n",
       "    .dataframe tbody tr th:only-of-type {\n",
       "        vertical-align: middle;\n",
       "    }\n",
       "\n",
       "    .dataframe tbody tr th {\n",
       "        vertical-align: top;\n",
       "    }\n",
       "\n",
       "    .dataframe thead th {\n",
       "        text-align: right;\n",
       "    }\n",
       "</style>\n",
       "<table border=\"1\" class=\"dataframe\">\n",
       "  <thead>\n",
       "    <tr style=\"text-align: right;\">\n",
       "      <th></th>\n",
       "      <th>State</th>\n",
       "      <th>Year</th>\n",
       "      <th>Total_Disaster</th>\n",
       "      <th>InterestRate</th>\n",
       "      <th>Unemployment Rate</th>\n",
       "      <th>HomeOwnRate</th>\n",
       "      <th>Population</th>\n",
       "      <th>MediumIncome</th>\n",
       "      <th>HPI</th>\n",
       "      <th>Average Temperature (F)</th>\n",
       "      <th>Average Temperature (C)</th>\n",
       "    </tr>\n",
       "  </thead>\n",
       "  <tbody>\n",
       "    <tr>\n",
       "      <th>0</th>\n",
       "      <td>CA</td>\n",
       "      <td>1996</td>\n",
       "      <td>11.0</td>\n",
       "      <td>0.078</td>\n",
       "      <td>0.073</td>\n",
       "      <td>0.550</td>\n",
       "      <td>31780829</td>\n",
       "      <td>63176</td>\n",
       "      <td>330.618545</td>\n",
       "      <td>59.42</td>\n",
       "      <td>15.00</td>\n",
       "    </tr>\n",
       "    <tr>\n",
       "      <th>1</th>\n",
       "      <td>CA</td>\n",
       "      <td>1997</td>\n",
       "      <td>20.0</td>\n",
       "      <td>0.076</td>\n",
       "      <td>0.064</td>\n",
       "      <td>0.557</td>\n",
       "      <td>32217708</td>\n",
       "      <td>63245</td>\n",
       "      <td>338.655091</td>\n",
       "      <td>58.92</td>\n",
       "      <td>14.58</td>\n",
       "    </tr>\n",
       "    <tr>\n",
       "      <th>2</th>\n",
       "      <td>CA</td>\n",
       "      <td>1998</td>\n",
       "      <td>15.0</td>\n",
       "      <td>0.069</td>\n",
       "      <td>0.059</td>\n",
       "      <td>0.560</td>\n",
       "      <td>32682794</td>\n",
       "      <td>64349</td>\n",
       "      <td>355.755536</td>\n",
       "      <td>56.67</td>\n",
       "      <td>13.50</td>\n",
       "    </tr>\n",
       "    <tr>\n",
       "      <th>3</th>\n",
       "      <td>CA</td>\n",
       "      <td>1999</td>\n",
       "      <td>85.0</td>\n",
       "      <td>0.074</td>\n",
       "      <td>0.052</td>\n",
       "      <td>0.557</td>\n",
       "      <td>33145121</td>\n",
       "      <td>67156</td>\n",
       "      <td>376.622500</td>\n",
       "      <td>57.75</td>\n",
       "      <td>14.25</td>\n",
       "    </tr>\n",
       "    <tr>\n",
       "      <th>4</th>\n",
       "      <td>CA</td>\n",
       "      <td>2000</td>\n",
       "      <td>32.0</td>\n",
       "      <td>0.081</td>\n",
       "      <td>0.049</td>\n",
       "      <td>0.571</td>\n",
       "      <td>33987977</td>\n",
       "      <td>69696</td>\n",
       "      <td>439.172182</td>\n",
       "      <td>58.58</td>\n",
       "      <td>14.42</td>\n",
       "    </tr>\n",
       "    <tr>\n",
       "      <th>5</th>\n",
       "      <td>CA</td>\n",
       "      <td>2001</td>\n",
       "      <td>81.0</td>\n",
       "      <td>0.070</td>\n",
       "      <td>0.054</td>\n",
       "      <td>0.582</td>\n",
       "      <td>34479458</td>\n",
       "      <td>68413</td>\n",
       "      <td>486.225714</td>\n",
       "      <td>58.75</td>\n",
       "      <td>14.58</td>\n",
       "    </tr>\n",
       "    <tr>\n",
       "      <th>6</th>\n",
       "      <td>CA</td>\n",
       "      <td>2002</td>\n",
       "      <td>124.0</td>\n",
       "      <td>0.065</td>\n",
       "      <td>0.067</td>\n",
       "      <td>0.577</td>\n",
       "      <td>34871843</td>\n",
       "      <td>67600</td>\n",
       "      <td>525.130526</td>\n",
       "      <td>58.58</td>\n",
       "      <td>14.50</td>\n",
       "    </tr>\n",
       "    <tr>\n",
       "      <th>7</th>\n",
       "      <td>CA</td>\n",
       "      <td>2003</td>\n",
       "      <td>130.0</td>\n",
       "      <td>0.058</td>\n",
       "      <td>0.068</td>\n",
       "      <td>0.589</td>\n",
       "      <td>35253159</td>\n",
       "      <td>68695</td>\n",
       "      <td>564.373621</td>\n",
       "      <td>59.33</td>\n",
       "      <td>14.83</td>\n",
       "    </tr>\n",
       "    <tr>\n",
       "      <th>8</th>\n",
       "      <td>CA</td>\n",
       "      <td>2004</td>\n",
       "      <td>63.0</td>\n",
       "      <td>0.058</td>\n",
       "      <td>0.062</td>\n",
       "      <td>0.597</td>\n",
       "      <td>35574576</td>\n",
       "      <td>66782</td>\n",
       "      <td>666.211724</td>\n",
       "      <td>58.58</td>\n",
       "      <td>14.58</td>\n",
       "    </tr>\n",
       "    <tr>\n",
       "      <th>9</th>\n",
       "      <td>CA</td>\n",
       "      <td>2005</td>\n",
       "      <td>35.0</td>\n",
       "      <td>0.059</td>\n",
       "      <td>0.054</td>\n",
       "      <td>0.597</td>\n",
       "      <td>35827943</td>\n",
       "      <td>67918</td>\n",
       "      <td>824.612931</td>\n",
       "      <td>58.25</td>\n",
       "      <td>14.50</td>\n",
       "    </tr>\n",
       "    <tr>\n",
       "      <th>10</th>\n",
       "      <td>CA</td>\n",
       "      <td>2006</td>\n",
       "      <td>75.0</td>\n",
       "      <td>0.064</td>\n",
       "      <td>0.049</td>\n",
       "      <td>0.602</td>\n",
       "      <td>36021202</td>\n",
       "      <td>70316</td>\n",
       "      <td>896.773276</td>\n",
       "      <td>58.50</td>\n",
       "      <td>14.42</td>\n",
       "    </tr>\n",
       "    <tr>\n",
       "      <th>11</th>\n",
       "      <td>CA</td>\n",
       "      <td>2007</td>\n",
       "      <td>66.0</td>\n",
       "      <td>0.063</td>\n",
       "      <td>0.054</td>\n",
       "      <td>0.583</td>\n",
       "      <td>36250311</td>\n",
       "      <td>68890</td>\n",
       "      <td>857.060690</td>\n",
       "      <td>58.67</td>\n",
       "      <td>14.50</td>\n",
       "    </tr>\n",
       "    <tr>\n",
       "      <th>12</th>\n",
       "      <td>CA</td>\n",
       "      <td>2008</td>\n",
       "      <td>67.0</td>\n",
       "      <td>0.060</td>\n",
       "      <td>0.073</td>\n",
       "      <td>0.575</td>\n",
       "      <td>36604337</td>\n",
       "      <td>67865</td>\n",
       "      <td>711.361724</td>\n",
       "      <td>58.75</td>\n",
       "      <td>14.50</td>\n",
       "    </tr>\n",
       "    <tr>\n",
       "      <th>13</th>\n",
       "      <td>CA</td>\n",
       "      <td>2009</td>\n",
       "      <td>40.0</td>\n",
       "      <td>0.050</td>\n",
       "      <td>0.112</td>\n",
       "      <td>0.570</td>\n",
       "      <td>36961229</td>\n",
       "      <td>67051</td>\n",
       "      <td>604.222414</td>\n",
       "      <td>58.33</td>\n",
       "      <td>14.50</td>\n",
       "    </tr>\n",
       "    <tr>\n",
       "      <th>14</th>\n",
       "      <td>CA</td>\n",
       "      <td>2010</td>\n",
       "      <td>24.0</td>\n",
       "      <td>0.047</td>\n",
       "      <td>0.122</td>\n",
       "      <td>0.561</td>\n",
       "      <td>37319502</td>\n",
       "      <td>63788</td>\n",
       "      <td>566.889655</td>\n",
       "      <td>57.50</td>\n",
       "      <td>13.83</td>\n",
       "    </tr>\n",
       "    <tr>\n",
       "      <th>15</th>\n",
       "      <td>CA</td>\n",
       "      <td>2011</td>\n",
       "      <td>21.0</td>\n",
       "      <td>0.045</td>\n",
       "      <td>0.117</td>\n",
       "      <td>0.553</td>\n",
       "      <td>37638369</td>\n",
       "      <td>60795</td>\n",
       "      <td>527.926379</td>\n",
       "      <td>57.25</td>\n",
       "      <td>13.92</td>\n",
       "    </tr>\n",
       "    <tr>\n",
       "      <th>16</th>\n",
       "      <td>CA</td>\n",
       "      <td>2012</td>\n",
       "      <td>22.0</td>\n",
       "      <td>0.037</td>\n",
       "      <td>0.104</td>\n",
       "      <td>0.545</td>\n",
       "      <td>37948800</td>\n",
       "      <td>63609</td>\n",
       "      <td>523.867069</td>\n",
       "      <td>59.00</td>\n",
       "      <td>14.75</td>\n",
       "    </tr>\n",
       "    <tr>\n",
       "      <th>17</th>\n",
       "      <td>CA</td>\n",
       "      <td>2013</td>\n",
       "      <td>42.0</td>\n",
       "      <td>0.040</td>\n",
       "      <td>0.089</td>\n",
       "      <td>0.543</td>\n",
       "      <td>38260787</td>\n",
       "      <td>66829</td>\n",
       "      <td>579.972414</td>\n",
       "      <td>46.50</td>\n",
       "      <td>12.17</td>\n",
       "    </tr>\n",
       "    <tr>\n",
       "      <th>24</th>\n",
       "      <td>FL</td>\n",
       "      <td>1996</td>\n",
       "      <td>34.0</td>\n",
       "      <td>0.078</td>\n",
       "      <td>0.052</td>\n",
       "      <td>0.671</td>\n",
       "      <td>14426911</td>\n",
       "      <td>49876</td>\n",
       "      <td>186.620192</td>\n",
       "      <td>70.25</td>\n",
       "      <td>21.17</td>\n",
       "    </tr>\n",
       "    <tr>\n",
       "      <th>25</th>\n",
       "      <td>FL</td>\n",
       "      <td>1998</td>\n",
       "      <td>113.0</td>\n",
       "      <td>0.069</td>\n",
       "      <td>0.043</td>\n",
       "      <td>0.669</td>\n",
       "      <td>14908230</td>\n",
       "      <td>54878</td>\n",
       "      <td>193.858214</td>\n",
       "      <td>72.92</td>\n",
       "      <td>22.50</td>\n",
       "    </tr>\n",
       "    <tr>\n",
       "      <th>26</th>\n",
       "      <td>FL</td>\n",
       "      <td>1999</td>\n",
       "      <td>59.0</td>\n",
       "      <td>0.074</td>\n",
       "      <td>0.039</td>\n",
       "      <td>0.676</td>\n",
       "      <td>15111244</td>\n",
       "      <td>55153</td>\n",
       "      <td>201.104643</td>\n",
       "      <td>71.58</td>\n",
       "      <td>21.75</td>\n",
       "    </tr>\n",
       "    <tr>\n",
       "      <th>27</th>\n",
       "      <td>FL</td>\n",
       "      <td>2000</td>\n",
       "      <td>52.0</td>\n",
       "      <td>0.081</td>\n",
       "      <td>0.037</td>\n",
       "      <td>0.684</td>\n",
       "      <td>16047515</td>\n",
       "      <td>57846</td>\n",
       "      <td>213.664821</td>\n",
       "      <td>71.00</td>\n",
       "      <td>21.50</td>\n",
       "    </tr>\n",
       "    <tr>\n",
       "      <th>28</th>\n",
       "      <td>FL</td>\n",
       "      <td>2001</td>\n",
       "      <td>51.0</td>\n",
       "      <td>0.070</td>\n",
       "      <td>0.047</td>\n",
       "      <td>0.692</td>\n",
       "      <td>16356966</td>\n",
       "      <td>52720</td>\n",
       "      <td>225.201864</td>\n",
       "      <td>71.42</td>\n",
       "      <td>21.58</td>\n",
       "    </tr>\n",
       "    <tr>\n",
       "      <th>29</th>\n",
       "      <td>FL</td>\n",
       "      <td>2002</td>\n",
       "      <td>35.0</td>\n",
       "      <td>0.065</td>\n",
       "      <td>0.056</td>\n",
       "      <td>0.687</td>\n",
       "      <td>16689370</td>\n",
       "      <td>54186</td>\n",
       "      <td>239.985500</td>\n",
       "      <td>72.00</td>\n",
       "      <td>21.83</td>\n",
       "    </tr>\n",
       "    <tr>\n",
       "      <th>30</th>\n",
       "      <td>FL</td>\n",
       "      <td>2004</td>\n",
       "      <td>156.0</td>\n",
       "      <td>0.058</td>\n",
       "      <td>0.046</td>\n",
       "      <td>0.722</td>\n",
       "      <td>17415318</td>\n",
       "      <td>54996</td>\n",
       "      <td>289.774355</td>\n",
       "      <td>71.33</td>\n",
       "      <td>21.67</td>\n",
       "    </tr>\n",
       "    <tr>\n",
       "      <th>31</th>\n",
       "      <td>FL</td>\n",
       "      <td>2005</td>\n",
       "      <td>134.0</td>\n",
       "      <td>0.059</td>\n",
       "      <td>0.037</td>\n",
       "      <td>0.724</td>\n",
       "      <td>17842038</td>\n",
       "      <td>56416</td>\n",
       "      <td>362.063387</td>\n",
       "      <td>71.17</td>\n",
       "      <td>21.42</td>\n",
       "    </tr>\n",
       "    <tr>\n",
       "      <th>32</th>\n",
       "      <td>FL</td>\n",
       "      <td>2006</td>\n",
       "      <td>56.0</td>\n",
       "      <td>0.064</td>\n",
       "      <td>0.032</td>\n",
       "      <td>0.724</td>\n",
       "      <td>18166990</td>\n",
       "      <td>58059</td>\n",
       "      <td>412.042381</td>\n",
       "      <td>71.75</td>\n",
       "      <td>21.92</td>\n",
       "    </tr>\n",
       "    <tr>\n",
       "      <th>33</th>\n",
       "      <td>FL</td>\n",
       "      <td>2007</td>\n",
       "      <td>16.0</td>\n",
       "      <td>0.063</td>\n",
       "      <td>0.040</td>\n",
       "      <td>0.718</td>\n",
       "      <td>18367842</td>\n",
       "      <td>56604</td>\n",
       "      <td>397.869844</td>\n",
       "      <td>72.17</td>\n",
       "      <td>22.17</td>\n",
       "    </tr>\n",
       "    <tr>\n",
       "      <th>34</th>\n",
       "      <td>FL</td>\n",
       "      <td>2008</td>\n",
       "      <td>80.0</td>\n",
       "      <td>0.060</td>\n",
       "      <td>0.063</td>\n",
       "      <td>0.711</td>\n",
       "      <td>18527305</td>\n",
       "      <td>53394</td>\n",
       "      <td>344.691875</td>\n",
       "      <td>71.33</td>\n",
       "      <td>21.58</td>\n",
       "    </tr>\n",
       "    <tr>\n",
       "      <th>35</th>\n",
       "      <td>FL</td>\n",
       "      <td>2009</td>\n",
       "      <td>11.0</td>\n",
       "      <td>0.050</td>\n",
       "      <td>0.104</td>\n",
       "      <td>0.709</td>\n",
       "      <td>18652644</td>\n",
       "      <td>54505</td>\n",
       "      <td>289.924219</td>\n",
       "      <td>71.67</td>\n",
       "      <td>21.58</td>\n",
       "    </tr>\n",
       "    <tr>\n",
       "      <th>36</th>\n",
       "      <td>FL</td>\n",
       "      <td>2010</td>\n",
       "      <td>1.0</td>\n",
       "      <td>0.047</td>\n",
       "      <td>0.111</td>\n",
       "      <td>0.693</td>\n",
       "      <td>18845537</td>\n",
       "      <td>51782</td>\n",
       "      <td>259.850781</td>\n",
       "      <td>69.75</td>\n",
       "      <td>20.83</td>\n",
       "    </tr>\n",
       "    <tr>\n",
       "      <th>37</th>\n",
       "      <td>FL</td>\n",
       "      <td>2011</td>\n",
       "      <td>4.0</td>\n",
       "      <td>0.045</td>\n",
       "      <td>0.100</td>\n",
       "      <td>0.690</td>\n",
       "      <td>19053237</td>\n",
       "      <td>51383</td>\n",
       "      <td>242.699844</td>\n",
       "      <td>72.17</td>\n",
       "      <td>22.25</td>\n",
       "    </tr>\n",
       "    <tr>\n",
       "      <th>38</th>\n",
       "      <td>FL</td>\n",
       "      <td>2012</td>\n",
       "      <td>59.0</td>\n",
       "      <td>0.037</td>\n",
       "      <td>0.085</td>\n",
       "      <td>0.670</td>\n",
       "      <td>19297822</td>\n",
       "      <td>51395</td>\n",
       "      <td>236.148281</td>\n",
       "      <td>72.25</td>\n",
       "      <td>22.17</td>\n",
       "    </tr>\n",
       "    <tr>\n",
       "      <th>39</th>\n",
       "      <td>FL</td>\n",
       "      <td>2013</td>\n",
       "      <td>8.0</td>\n",
       "      <td>0.040</td>\n",
       "      <td>0.072</td>\n",
       "      <td>0.661</td>\n",
       "      <td>19545621</td>\n",
       "      <td>53350</td>\n",
       "      <td>248.305781</td>\n",
       "      <td>54.67</td>\n",
       "      <td>17.00</td>\n",
       "    </tr>\n",
       "    <tr>\n",
       "      <th>44</th>\n",
       "      <td>IL</td>\n",
       "      <td>1991</td>\n",
       "      <td>36.0</td>\n",
       "      <td>0.093</td>\n",
       "      <td>0.073</td>\n",
       "      <td>0.630</td>\n",
       "      <td>11535973</td>\n",
       "      <td>31884</td>\n",
       "      <td>146.882787</td>\n",
       "      <td>53.75</td>\n",
       "      <td>12.00</td>\n",
       "    </tr>\n",
       "    <tr>\n",
       "      <th>45</th>\n",
       "      <td>IL</td>\n",
       "      <td>1992</td>\n",
       "      <td>23.0</td>\n",
       "      <td>0.084</td>\n",
       "      <td>0.079</td>\n",
       "      <td>0.624</td>\n",
       "      <td>11635197</td>\n",
       "      <td>31551</td>\n",
       "      <td>144.089571</td>\n",
       "      <td>52.08</td>\n",
       "      <td>11.08</td>\n",
       "    </tr>\n",
       "    <tr>\n",
       "      <th>46</th>\n",
       "      <td>IL</td>\n",
       "      <td>1993</td>\n",
       "      <td>12.0</td>\n",
       "      <td>0.073</td>\n",
       "      <td>0.074</td>\n",
       "      <td>0.618</td>\n",
       "      <td>11725984</td>\n",
       "      <td>32857</td>\n",
       "      <td>141.668171</td>\n",
       "      <td>50.92</td>\n",
       "      <td>10.50</td>\n",
       "    </tr>\n",
       "    <tr>\n",
       "      <th>47</th>\n",
       "      <td>IL</td>\n",
       "      <td>1994</td>\n",
       "      <td>17.0</td>\n",
       "      <td>0.084</td>\n",
       "      <td>0.058</td>\n",
       "      <td>0.642</td>\n",
       "      <td>11804986</td>\n",
       "      <td>35081</td>\n",
       "      <td>149.735000</td>\n",
       "      <td>52.08</td>\n",
       "      <td>11.08</td>\n",
       "    </tr>\n",
       "    <tr>\n",
       "      <th>48</th>\n",
       "      <td>IL</td>\n",
       "      <td>1995</td>\n",
       "      <td>58.0</td>\n",
       "      <td>0.079</td>\n",
       "      <td>0.052</td>\n",
       "      <td>0.664</td>\n",
       "      <td>11884935</td>\n",
       "      <td>38071</td>\n",
       "      <td>159.270122</td>\n",
       "      <td>51.67</td>\n",
       "      <td>10.92</td>\n",
       "    </tr>\n",
       "    <tr>\n",
       "      <th>49</th>\n",
       "      <td>IL</td>\n",
       "      <td>1996</td>\n",
       "      <td>71.0</td>\n",
       "      <td>0.078</td>\n",
       "      <td>0.053</td>\n",
       "      <td>0.682</td>\n",
       "      <td>11953003</td>\n",
       "      <td>39554</td>\n",
       "      <td>164.556386</td>\n",
       "      <td>50.25</td>\n",
       "      <td>10.17</td>\n",
       "    </tr>\n",
       "    <tr>\n",
       "      <th>50</th>\n",
       "      <td>IL</td>\n",
       "      <td>1997</td>\n",
       "      <td>35.0</td>\n",
       "      <td>0.076</td>\n",
       "      <td>0.048</td>\n",
       "      <td>0.681</td>\n",
       "      <td>12011509</td>\n",
       "      <td>41283</td>\n",
       "      <td>170.086627</td>\n",
       "      <td>51.33</td>\n",
       "      <td>10.50</td>\n",
       "    </tr>\n",
       "    <tr>\n",
       "      <th>51</th>\n",
       "      <td>IL</td>\n",
       "      <td>1998</td>\n",
       "      <td>105.0</td>\n",
       "      <td>0.069</td>\n",
       "      <td>0.044</td>\n",
       "      <td>0.680</td>\n",
       "      <td>12069774</td>\n",
       "      <td>43178</td>\n",
       "      <td>170.318864</td>\n",
       "      <td>55.33</td>\n",
       "      <td>12.75</td>\n",
       "    </tr>\n",
       "    <tr>\n",
       "      <th>52</th>\n",
       "      <td>IL</td>\n",
       "      <td>1999</td>\n",
       "      <td>76.0</td>\n",
       "      <td>0.074</td>\n",
       "      <td>0.044</td>\n",
       "      <td>0.671</td>\n",
       "      <td>12128370</td>\n",
       "      <td>46330</td>\n",
       "      <td>175.569318</td>\n",
       "      <td>53.75</td>\n",
       "      <td>11.92</td>\n",
       "    </tr>\n",
       "    <tr>\n",
       "      <th>53</th>\n",
       "      <td>IL</td>\n",
       "      <td>2000</td>\n",
       "      <td>58.0</td>\n",
       "      <td>0.081</td>\n",
       "      <td>0.043</td>\n",
       "      <td>0.679</td>\n",
       "      <td>12434161</td>\n",
       "      <td>46064</td>\n",
       "      <td>182.080114</td>\n",
       "      <td>52.33</td>\n",
       "      <td>11.33</td>\n",
       "    </tr>\n",
       "    <tr>\n",
       "      <th>54</th>\n",
       "      <td>IL</td>\n",
       "      <td>2001</td>\n",
       "      <td>20.0</td>\n",
       "      <td>0.070</td>\n",
       "      <td>0.053</td>\n",
       "      <td>0.694</td>\n",
       "      <td>12488445</td>\n",
       "      <td>46171</td>\n",
       "      <td>185.640870</td>\n",
       "      <td>53.50</td>\n",
       "      <td>11.92</td>\n",
       "    </tr>\n",
       "    <tr>\n",
       "      <th>55</th>\n",
       "      <td>IL</td>\n",
       "      <td>2002</td>\n",
       "      <td>40.0</td>\n",
       "      <td>0.065</td>\n",
       "      <td>0.065</td>\n",
       "      <td>0.701</td>\n",
       "      <td>12525556</td>\n",
       "      <td>42710</td>\n",
       "      <td>187.808000</td>\n",
       "      <td>53.25</td>\n",
       "      <td>11.75</td>\n",
       "    </tr>\n",
       "    <tr>\n",
       "      <th>56</th>\n",
       "      <td>IL</td>\n",
       "      <td>2003</td>\n",
       "      <td>136.0</td>\n",
       "      <td>0.058</td>\n",
       "      <td>0.068</td>\n",
       "      <td>0.707</td>\n",
       "      <td>12556006</td>\n",
       "      <td>45153</td>\n",
       "      <td>191.535158</td>\n",
       "      <td>51.67</td>\n",
       "      <td>11.08</td>\n",
       "    </tr>\n",
       "    <tr>\n",
       "      <th>57</th>\n",
       "      <td>IL</td>\n",
       "      <td>2004</td>\n",
       "      <td>87.0</td>\n",
       "      <td>0.058</td>\n",
       "      <td>0.062</td>\n",
       "      <td>0.727</td>\n",
       "      <td>12589773</td>\n",
       "      <td>46077</td>\n",
       "      <td>200.566316</td>\n",
       "      <td>52.67</td>\n",
       "      <td>11.50</td>\n",
       "    </tr>\n",
       "    <tr>\n",
       "      <th>58</th>\n",
       "      <td>IL</td>\n",
       "      <td>2005</td>\n",
       "      <td>22.0</td>\n",
       "      <td>0.059</td>\n",
       "      <td>0.057</td>\n",
       "      <td>0.709</td>\n",
       "      <td>12609903</td>\n",
       "      <td>48398</td>\n",
       "      <td>212.492947</td>\n",
       "      <td>53.83</td>\n",
       "      <td>12.17</td>\n",
       "    </tr>\n",
       "    <tr>\n",
       "      <th>59</th>\n",
       "      <td>IL</td>\n",
       "      <td>2006</td>\n",
       "      <td>144.0</td>\n",
       "      <td>0.064</td>\n",
       "      <td>0.045</td>\n",
       "      <td>0.704</td>\n",
       "      <td>12643955</td>\n",
       "      <td>48671</td>\n",
       "      <td>222.587684</td>\n",
       "      <td>54.25</td>\n",
       "      <td>12.33</td>\n",
       "    </tr>\n",
       "    <tr>\n",
       "      <th>60</th>\n",
       "      <td>IL</td>\n",
       "      <td>2007</td>\n",
       "      <td>23.0</td>\n",
       "      <td>0.063</td>\n",
       "      <td>0.050</td>\n",
       "      <td>0.694</td>\n",
       "      <td>12695866</td>\n",
       "      <td>52506</td>\n",
       "      <td>228.332553</td>\n",
       "      <td>53.83</td>\n",
       "      <td>12.25</td>\n",
       "    </tr>\n",
       "    <tr>\n",
       "      <th>61</th>\n",
       "      <td>IL</td>\n",
       "      <td>2008</td>\n",
       "      <td>50.0</td>\n",
       "      <td>0.060</td>\n",
       "      <td>0.063</td>\n",
       "      <td>0.689</td>\n",
       "      <td>12747038</td>\n",
       "      <td>53254</td>\n",
       "      <td>226.258105</td>\n",
       "      <td>50.92</td>\n",
       "      <td>10.67</td>\n",
       "    </tr>\n",
       "    <tr>\n",
       "      <th>62</th>\n",
       "      <td>IL</td>\n",
       "      <td>2009</td>\n",
       "      <td>61.0</td>\n",
       "      <td>0.050</td>\n",
       "      <td>0.102</td>\n",
       "      <td>0.691</td>\n",
       "      <td>12796778</td>\n",
       "      <td>52870</td>\n",
       "      <td>216.845670</td>\n",
       "      <td>51.42</td>\n",
       "      <td>10.67</td>\n",
       "    </tr>\n",
       "    <tr>\n",
       "      <th>63</th>\n",
       "      <td>IL</td>\n",
       "      <td>2010</td>\n",
       "      <td>53.0</td>\n",
       "      <td>0.047</td>\n",
       "      <td>0.104</td>\n",
       "      <td>0.688</td>\n",
       "      <td>12840503</td>\n",
       "      <td>50728</td>\n",
       "      <td>211.505876</td>\n",
       "      <td>53.00</td>\n",
       "      <td>11.58</td>\n",
       "    </tr>\n",
       "    <tr>\n",
       "      <th>64</th>\n",
       "      <td>IL</td>\n",
       "      <td>2011</td>\n",
       "      <td>78.0</td>\n",
       "      <td>0.045</td>\n",
       "      <td>0.097</td>\n",
       "      <td>0.684</td>\n",
       "      <td>12867454</td>\n",
       "      <td>50637</td>\n",
       "      <td>207.562784</td>\n",
       "      <td>53.17</td>\n",
       "      <td>12.00</td>\n",
       "    </tr>\n",
       "    <tr>\n",
       "      <th>65</th>\n",
       "      <td>IL</td>\n",
       "      <td>2012</td>\n",
       "      <td>37.0</td>\n",
       "      <td>0.037</td>\n",
       "      <td>0.090</td>\n",
       "      <td>0.668</td>\n",
       "      <td>12882510</td>\n",
       "      <td>51738</td>\n",
       "      <td>205.062887</td>\n",
       "      <td>55.83</td>\n",
       "      <td>13.00</td>\n",
       "    </tr>\n",
       "    <tr>\n",
       "      <th>66</th>\n",
       "      <td>IL</td>\n",
       "      <td>2013</td>\n",
       "      <td>71.0</td>\n",
       "      <td>0.040</td>\n",
       "      <td>0.090</td>\n",
       "      <td>0.672</td>\n",
       "      <td>12895129</td>\n",
       "      <td>53937</td>\n",
       "      <td>206.145979</td>\n",
       "      <td>41.25</td>\n",
       "      <td>9.67</td>\n",
       "    </tr>\n",
       "  </tbody>\n",
       "</table>\n",
       "</div>"
      ],
      "text/plain": [
       "   State  Year  Total_Disaster  InterestRate  Unemployment Rate   HomeOwnRate  \\\n",
       "0     CA  1996            11.0         0.078               0.073        0.550   \n",
       "1     CA  1997            20.0         0.076               0.064        0.557   \n",
       "2     CA  1998            15.0         0.069               0.059        0.560   \n",
       "3     CA  1999            85.0         0.074               0.052        0.557   \n",
       "4     CA  2000            32.0         0.081               0.049        0.571   \n",
       "5     CA  2001            81.0         0.070               0.054        0.582   \n",
       "6     CA  2002           124.0         0.065               0.067        0.577   \n",
       "7     CA  2003           130.0         0.058               0.068        0.589   \n",
       "8     CA  2004            63.0         0.058               0.062        0.597   \n",
       "9     CA  2005            35.0         0.059               0.054        0.597   \n",
       "10    CA  2006            75.0         0.064               0.049        0.602   \n",
       "11    CA  2007            66.0         0.063               0.054        0.583   \n",
       "12    CA  2008            67.0         0.060               0.073        0.575   \n",
       "13    CA  2009            40.0         0.050               0.112        0.570   \n",
       "14    CA  2010            24.0         0.047               0.122        0.561   \n",
       "15    CA  2011            21.0         0.045               0.117        0.553   \n",
       "16    CA  2012            22.0         0.037               0.104        0.545   \n",
       "17    CA  2013            42.0         0.040               0.089        0.543   \n",
       "24    FL  1996            34.0         0.078               0.052        0.671   \n",
       "25    FL  1998           113.0         0.069               0.043        0.669   \n",
       "26    FL  1999            59.0         0.074               0.039        0.676   \n",
       "27    FL  2000            52.0         0.081               0.037        0.684   \n",
       "28    FL  2001            51.0         0.070               0.047        0.692   \n",
       "29    FL  2002            35.0         0.065               0.056        0.687   \n",
       "30    FL  2004           156.0         0.058               0.046        0.722   \n",
       "31    FL  2005           134.0         0.059               0.037        0.724   \n",
       "32    FL  2006            56.0         0.064               0.032        0.724   \n",
       "33    FL  2007            16.0         0.063               0.040        0.718   \n",
       "34    FL  2008            80.0         0.060               0.063        0.711   \n",
       "35    FL  2009            11.0         0.050               0.104        0.709   \n",
       "36    FL  2010             1.0         0.047               0.111        0.693   \n",
       "37    FL  2011             4.0         0.045               0.100        0.690   \n",
       "38    FL  2012            59.0         0.037               0.085        0.670   \n",
       "39    FL  2013             8.0         0.040               0.072        0.661   \n",
       "44    IL  1991            36.0         0.093               0.073        0.630   \n",
       "45    IL  1992            23.0         0.084               0.079        0.624   \n",
       "46    IL  1993            12.0         0.073               0.074        0.618   \n",
       "47    IL  1994            17.0         0.084               0.058        0.642   \n",
       "48    IL  1995            58.0         0.079               0.052        0.664   \n",
       "49    IL  1996            71.0         0.078               0.053        0.682   \n",
       "50    IL  1997            35.0         0.076               0.048        0.681   \n",
       "51    IL  1998           105.0         0.069               0.044        0.680   \n",
       "52    IL  1999            76.0         0.074               0.044        0.671   \n",
       "53    IL  2000            58.0         0.081               0.043        0.679   \n",
       "54    IL  2001            20.0         0.070               0.053        0.694   \n",
       "55    IL  2002            40.0         0.065               0.065        0.701   \n",
       "56    IL  2003           136.0         0.058               0.068        0.707   \n",
       "57    IL  2004            87.0         0.058               0.062        0.727   \n",
       "58    IL  2005            22.0         0.059               0.057        0.709   \n",
       "59    IL  2006           144.0         0.064               0.045        0.704   \n",
       "60    IL  2007            23.0         0.063               0.050        0.694   \n",
       "61    IL  2008            50.0         0.060               0.063        0.689   \n",
       "62    IL  2009            61.0         0.050               0.102        0.691   \n",
       "63    IL  2010            53.0         0.047               0.104        0.688   \n",
       "64    IL  2011            78.0         0.045               0.097        0.684   \n",
       "65    IL  2012            37.0         0.037               0.090        0.668   \n",
       "66    IL  2013            71.0         0.040               0.090        0.672   \n",
       "\n",
       "    Population  MediumIncome         HPI  Average Temperature (F)  \\\n",
       "0     31780829         63176  330.618545                    59.42   \n",
       "1     32217708         63245  338.655091                    58.92   \n",
       "2     32682794         64349  355.755536                    56.67   \n",
       "3     33145121         67156  376.622500                    57.75   \n",
       "4     33987977         69696  439.172182                    58.58   \n",
       "5     34479458         68413  486.225714                    58.75   \n",
       "6     34871843         67600  525.130526                    58.58   \n",
       "7     35253159         68695  564.373621                    59.33   \n",
       "8     35574576         66782  666.211724                    58.58   \n",
       "9     35827943         67918  824.612931                    58.25   \n",
       "10    36021202         70316  896.773276                    58.50   \n",
       "11    36250311         68890  857.060690                    58.67   \n",
       "12    36604337         67865  711.361724                    58.75   \n",
       "13    36961229         67051  604.222414                    58.33   \n",
       "14    37319502         63788  566.889655                    57.50   \n",
       "15    37638369         60795  527.926379                    57.25   \n",
       "16    37948800         63609  523.867069                    59.00   \n",
       "17    38260787         66829  579.972414                    46.50   \n",
       "24    14426911         49876  186.620192                    70.25   \n",
       "25    14908230         54878  193.858214                    72.92   \n",
       "26    15111244         55153  201.104643                    71.58   \n",
       "27    16047515         57846  213.664821                    71.00   \n",
       "28    16356966         52720  225.201864                    71.42   \n",
       "29    16689370         54186  239.985500                    72.00   \n",
       "30    17415318         54996  289.774355                    71.33   \n",
       "31    17842038         56416  362.063387                    71.17   \n",
       "32    18166990         58059  412.042381                    71.75   \n",
       "33    18367842         56604  397.869844                    72.17   \n",
       "34    18527305         53394  344.691875                    71.33   \n",
       "35    18652644         54505  289.924219                    71.67   \n",
       "36    18845537         51782  259.850781                    69.75   \n",
       "37    19053237         51383  242.699844                    72.17   \n",
       "38    19297822         51395  236.148281                    72.25   \n",
       "39    19545621         53350  248.305781                    54.67   \n",
       "44    11535973         31884  146.882787                    53.75   \n",
       "45    11635197         31551  144.089571                    52.08   \n",
       "46    11725984         32857  141.668171                    50.92   \n",
       "47    11804986         35081  149.735000                    52.08   \n",
       "48    11884935         38071  159.270122                    51.67   \n",
       "49    11953003         39554  164.556386                    50.25   \n",
       "50    12011509         41283  170.086627                    51.33   \n",
       "51    12069774         43178  170.318864                    55.33   \n",
       "52    12128370         46330  175.569318                    53.75   \n",
       "53    12434161         46064  182.080114                    52.33   \n",
       "54    12488445         46171  185.640870                    53.50   \n",
       "55    12525556         42710  187.808000                    53.25   \n",
       "56    12556006         45153  191.535158                    51.67   \n",
       "57    12589773         46077  200.566316                    52.67   \n",
       "58    12609903         48398  212.492947                    53.83   \n",
       "59    12643955         48671  222.587684                    54.25   \n",
       "60    12695866         52506  228.332553                    53.83   \n",
       "61    12747038         53254  226.258105                    50.92   \n",
       "62    12796778         52870  216.845670                    51.42   \n",
       "63    12840503         50728  211.505876                    53.00   \n",
       "64    12867454         50637  207.562784                    53.17   \n",
       "65    12882510         51738  205.062887                    55.83   \n",
       "66    12895129         53937  206.145979                    41.25   \n",
       "\n",
       "    Average Temperature (C)  \n",
       "0                     15.00  \n",
       "1                     14.58  \n",
       "2                     13.50  \n",
       "3                     14.25  \n",
       "4                     14.42  \n",
       "5                     14.58  \n",
       "6                     14.50  \n",
       "7                     14.83  \n",
       "8                     14.58  \n",
       "9                     14.50  \n",
       "10                    14.42  \n",
       "11                    14.50  \n",
       "12                    14.50  \n",
       "13                    14.50  \n",
       "14                    13.83  \n",
       "15                    13.92  \n",
       "16                    14.75  \n",
       "17                    12.17  \n",
       "24                    21.17  \n",
       "25                    22.50  \n",
       "26                    21.75  \n",
       "27                    21.50  \n",
       "28                    21.58  \n",
       "29                    21.83  \n",
       "30                    21.67  \n",
       "31                    21.42  \n",
       "32                    21.92  \n",
       "33                    22.17  \n",
       "34                    21.58  \n",
       "35                    21.58  \n",
       "36                    20.83  \n",
       "37                    22.25  \n",
       "38                    22.17  \n",
       "39                    17.00  \n",
       "44                    12.00  \n",
       "45                    11.08  \n",
       "46                    10.50  \n",
       "47                    11.08  \n",
       "48                    10.92  \n",
       "49                    10.17  \n",
       "50                    10.50  \n",
       "51                    12.75  \n",
       "52                    11.92  \n",
       "53                    11.33  \n",
       "54                    11.92  \n",
       "55                    11.75  \n",
       "56                    11.08  \n",
       "57                    11.50  \n",
       "58                    12.17  \n",
       "59                    12.33  \n",
       "60                    12.25  \n",
       "61                    10.67  \n",
       "62                    10.67  \n",
       "63                    11.58  \n",
       "64                    12.00  \n",
       "65                    13.00  \n",
       "66                     9.67  "
      ]
     },
     "execution_count": 4,
     "metadata": {},
     "output_type": "execute_result"
    }
   ],
   "source": [
    "#drop nan's so I can create the plots\n",
    "\n",
    "df = final_data.dropna()\n",
    "df"
   ]
  },
  {
   "cell_type": "code",
   "execution_count": 5,
   "metadata": {},
   "outputs": [
    {
     "data": {
      "text/html": [
       "<div>\n",
       "<style scoped>\n",
       "    .dataframe tbody tr th:only-of-type {\n",
       "        vertical-align: middle;\n",
       "    }\n",
       "\n",
       "    .dataframe tbody tr th {\n",
       "        vertical-align: top;\n",
       "    }\n",
       "\n",
       "    .dataframe thead th {\n",
       "        text-align: right;\n",
       "    }\n",
       "</style>\n",
       "<table border=\"1\" class=\"dataframe\">\n",
       "  <thead>\n",
       "    <tr style=\"text-align: right;\">\n",
       "      <th></th>\n",
       "      <th>State</th>\n",
       "      <th>Year</th>\n",
       "      <th>Total_Disaster</th>\n",
       "      <th>InterestRate</th>\n",
       "      <th>Unemployment Rate</th>\n",
       "      <th>HomeOwnRate</th>\n",
       "      <th>Population</th>\n",
       "      <th>MediumIncome</th>\n",
       "      <th>HPI</th>\n",
       "      <th>Average Temperature (F)</th>\n",
       "      <th>Average Temperature (C)</th>\n",
       "    </tr>\n",
       "  </thead>\n",
       "  <tbody>\n",
       "    <tr>\n",
       "      <th>44</th>\n",
       "      <td>IL</td>\n",
       "      <td>1991</td>\n",
       "      <td>36.0</td>\n",
       "      <td>0.093</td>\n",
       "      <td>0.073</td>\n",
       "      <td>0.630</td>\n",
       "      <td>11535973</td>\n",
       "      <td>31884</td>\n",
       "      <td>146.882787</td>\n",
       "      <td>53.75</td>\n",
       "      <td>12.00</td>\n",
       "    </tr>\n",
       "    <tr>\n",
       "      <th>45</th>\n",
       "      <td>IL</td>\n",
       "      <td>1992</td>\n",
       "      <td>23.0</td>\n",
       "      <td>0.084</td>\n",
       "      <td>0.079</td>\n",
       "      <td>0.624</td>\n",
       "      <td>11635197</td>\n",
       "      <td>31551</td>\n",
       "      <td>144.089571</td>\n",
       "      <td>52.08</td>\n",
       "      <td>11.08</td>\n",
       "    </tr>\n",
       "    <tr>\n",
       "      <th>46</th>\n",
       "      <td>IL</td>\n",
       "      <td>1993</td>\n",
       "      <td>12.0</td>\n",
       "      <td>0.073</td>\n",
       "      <td>0.074</td>\n",
       "      <td>0.618</td>\n",
       "      <td>11725984</td>\n",
       "      <td>32857</td>\n",
       "      <td>141.668171</td>\n",
       "      <td>50.92</td>\n",
       "      <td>10.50</td>\n",
       "    </tr>\n",
       "    <tr>\n",
       "      <th>47</th>\n",
       "      <td>IL</td>\n",
       "      <td>1994</td>\n",
       "      <td>17.0</td>\n",
       "      <td>0.084</td>\n",
       "      <td>0.058</td>\n",
       "      <td>0.642</td>\n",
       "      <td>11804986</td>\n",
       "      <td>35081</td>\n",
       "      <td>149.735000</td>\n",
       "      <td>52.08</td>\n",
       "      <td>11.08</td>\n",
       "    </tr>\n",
       "    <tr>\n",
       "      <th>48</th>\n",
       "      <td>IL</td>\n",
       "      <td>1995</td>\n",
       "      <td>58.0</td>\n",
       "      <td>0.079</td>\n",
       "      <td>0.052</td>\n",
       "      <td>0.664</td>\n",
       "      <td>11884935</td>\n",
       "      <td>38071</td>\n",
       "      <td>159.270122</td>\n",
       "      <td>51.67</td>\n",
       "      <td>10.92</td>\n",
       "    </tr>\n",
       "    <tr>\n",
       "      <th>49</th>\n",
       "      <td>IL</td>\n",
       "      <td>1996</td>\n",
       "      <td>71.0</td>\n",
       "      <td>0.078</td>\n",
       "      <td>0.053</td>\n",
       "      <td>0.682</td>\n",
       "      <td>11953003</td>\n",
       "      <td>39554</td>\n",
       "      <td>164.556386</td>\n",
       "      <td>50.25</td>\n",
       "      <td>10.17</td>\n",
       "    </tr>\n",
       "    <tr>\n",
       "      <th>50</th>\n",
       "      <td>IL</td>\n",
       "      <td>1997</td>\n",
       "      <td>35.0</td>\n",
       "      <td>0.076</td>\n",
       "      <td>0.048</td>\n",
       "      <td>0.681</td>\n",
       "      <td>12011509</td>\n",
       "      <td>41283</td>\n",
       "      <td>170.086627</td>\n",
       "      <td>51.33</td>\n",
       "      <td>10.50</td>\n",
       "    </tr>\n",
       "    <tr>\n",
       "      <th>51</th>\n",
       "      <td>IL</td>\n",
       "      <td>1998</td>\n",
       "      <td>105.0</td>\n",
       "      <td>0.069</td>\n",
       "      <td>0.044</td>\n",
       "      <td>0.680</td>\n",
       "      <td>12069774</td>\n",
       "      <td>43178</td>\n",
       "      <td>170.318864</td>\n",
       "      <td>55.33</td>\n",
       "      <td>12.75</td>\n",
       "    </tr>\n",
       "    <tr>\n",
       "      <th>52</th>\n",
       "      <td>IL</td>\n",
       "      <td>1999</td>\n",
       "      <td>76.0</td>\n",
       "      <td>0.074</td>\n",
       "      <td>0.044</td>\n",
       "      <td>0.671</td>\n",
       "      <td>12128370</td>\n",
       "      <td>46330</td>\n",
       "      <td>175.569318</td>\n",
       "      <td>53.75</td>\n",
       "      <td>11.92</td>\n",
       "    </tr>\n",
       "    <tr>\n",
       "      <th>53</th>\n",
       "      <td>IL</td>\n",
       "      <td>2000</td>\n",
       "      <td>58.0</td>\n",
       "      <td>0.081</td>\n",
       "      <td>0.043</td>\n",
       "      <td>0.679</td>\n",
       "      <td>12434161</td>\n",
       "      <td>46064</td>\n",
       "      <td>182.080114</td>\n",
       "      <td>52.33</td>\n",
       "      <td>11.33</td>\n",
       "    </tr>\n",
       "    <tr>\n",
       "      <th>54</th>\n",
       "      <td>IL</td>\n",
       "      <td>2001</td>\n",
       "      <td>20.0</td>\n",
       "      <td>0.070</td>\n",
       "      <td>0.053</td>\n",
       "      <td>0.694</td>\n",
       "      <td>12488445</td>\n",
       "      <td>46171</td>\n",
       "      <td>185.640870</td>\n",
       "      <td>53.50</td>\n",
       "      <td>11.92</td>\n",
       "    </tr>\n",
       "    <tr>\n",
       "      <th>55</th>\n",
       "      <td>IL</td>\n",
       "      <td>2002</td>\n",
       "      <td>40.0</td>\n",
       "      <td>0.065</td>\n",
       "      <td>0.065</td>\n",
       "      <td>0.701</td>\n",
       "      <td>12525556</td>\n",
       "      <td>42710</td>\n",
       "      <td>187.808000</td>\n",
       "      <td>53.25</td>\n",
       "      <td>11.75</td>\n",
       "    </tr>\n",
       "    <tr>\n",
       "      <th>56</th>\n",
       "      <td>IL</td>\n",
       "      <td>2003</td>\n",
       "      <td>136.0</td>\n",
       "      <td>0.058</td>\n",
       "      <td>0.068</td>\n",
       "      <td>0.707</td>\n",
       "      <td>12556006</td>\n",
       "      <td>45153</td>\n",
       "      <td>191.535158</td>\n",
       "      <td>51.67</td>\n",
       "      <td>11.08</td>\n",
       "    </tr>\n",
       "    <tr>\n",
       "      <th>57</th>\n",
       "      <td>IL</td>\n",
       "      <td>2004</td>\n",
       "      <td>87.0</td>\n",
       "      <td>0.058</td>\n",
       "      <td>0.062</td>\n",
       "      <td>0.727</td>\n",
       "      <td>12589773</td>\n",
       "      <td>46077</td>\n",
       "      <td>200.566316</td>\n",
       "      <td>52.67</td>\n",
       "      <td>11.50</td>\n",
       "    </tr>\n",
       "    <tr>\n",
       "      <th>58</th>\n",
       "      <td>IL</td>\n",
       "      <td>2005</td>\n",
       "      <td>22.0</td>\n",
       "      <td>0.059</td>\n",
       "      <td>0.057</td>\n",
       "      <td>0.709</td>\n",
       "      <td>12609903</td>\n",
       "      <td>48398</td>\n",
       "      <td>212.492947</td>\n",
       "      <td>53.83</td>\n",
       "      <td>12.17</td>\n",
       "    </tr>\n",
       "    <tr>\n",
       "      <th>59</th>\n",
       "      <td>IL</td>\n",
       "      <td>2006</td>\n",
       "      <td>144.0</td>\n",
       "      <td>0.064</td>\n",
       "      <td>0.045</td>\n",
       "      <td>0.704</td>\n",
       "      <td>12643955</td>\n",
       "      <td>48671</td>\n",
       "      <td>222.587684</td>\n",
       "      <td>54.25</td>\n",
       "      <td>12.33</td>\n",
       "    </tr>\n",
       "    <tr>\n",
       "      <th>60</th>\n",
       "      <td>IL</td>\n",
       "      <td>2007</td>\n",
       "      <td>23.0</td>\n",
       "      <td>0.063</td>\n",
       "      <td>0.050</td>\n",
       "      <td>0.694</td>\n",
       "      <td>12695866</td>\n",
       "      <td>52506</td>\n",
       "      <td>228.332553</td>\n",
       "      <td>53.83</td>\n",
       "      <td>12.25</td>\n",
       "    </tr>\n",
       "    <tr>\n",
       "      <th>61</th>\n",
       "      <td>IL</td>\n",
       "      <td>2008</td>\n",
       "      <td>50.0</td>\n",
       "      <td>0.060</td>\n",
       "      <td>0.063</td>\n",
       "      <td>0.689</td>\n",
       "      <td>12747038</td>\n",
       "      <td>53254</td>\n",
       "      <td>226.258105</td>\n",
       "      <td>50.92</td>\n",
       "      <td>10.67</td>\n",
       "    </tr>\n",
       "    <tr>\n",
       "      <th>62</th>\n",
       "      <td>IL</td>\n",
       "      <td>2009</td>\n",
       "      <td>61.0</td>\n",
       "      <td>0.050</td>\n",
       "      <td>0.102</td>\n",
       "      <td>0.691</td>\n",
       "      <td>12796778</td>\n",
       "      <td>52870</td>\n",
       "      <td>216.845670</td>\n",
       "      <td>51.42</td>\n",
       "      <td>10.67</td>\n",
       "    </tr>\n",
       "    <tr>\n",
       "      <th>63</th>\n",
       "      <td>IL</td>\n",
       "      <td>2010</td>\n",
       "      <td>53.0</td>\n",
       "      <td>0.047</td>\n",
       "      <td>0.104</td>\n",
       "      <td>0.688</td>\n",
       "      <td>12840503</td>\n",
       "      <td>50728</td>\n",
       "      <td>211.505876</td>\n",
       "      <td>53.00</td>\n",
       "      <td>11.58</td>\n",
       "    </tr>\n",
       "    <tr>\n",
       "      <th>64</th>\n",
       "      <td>IL</td>\n",
       "      <td>2011</td>\n",
       "      <td>78.0</td>\n",
       "      <td>0.045</td>\n",
       "      <td>0.097</td>\n",
       "      <td>0.684</td>\n",
       "      <td>12867454</td>\n",
       "      <td>50637</td>\n",
       "      <td>207.562784</td>\n",
       "      <td>53.17</td>\n",
       "      <td>12.00</td>\n",
       "    </tr>\n",
       "    <tr>\n",
       "      <th>65</th>\n",
       "      <td>IL</td>\n",
       "      <td>2012</td>\n",
       "      <td>37.0</td>\n",
       "      <td>0.037</td>\n",
       "      <td>0.090</td>\n",
       "      <td>0.668</td>\n",
       "      <td>12882510</td>\n",
       "      <td>51738</td>\n",
       "      <td>205.062887</td>\n",
       "      <td>55.83</td>\n",
       "      <td>13.00</td>\n",
       "    </tr>\n",
       "    <tr>\n",
       "      <th>66</th>\n",
       "      <td>IL</td>\n",
       "      <td>2013</td>\n",
       "      <td>71.0</td>\n",
       "      <td>0.040</td>\n",
       "      <td>0.090</td>\n",
       "      <td>0.672</td>\n",
       "      <td>12895129</td>\n",
       "      <td>53937</td>\n",
       "      <td>206.145979</td>\n",
       "      <td>41.25</td>\n",
       "      <td>9.67</td>\n",
       "    </tr>\n",
       "  </tbody>\n",
       "</table>\n",
       "</div>"
      ],
      "text/plain": [
       "   State  Year  Total_Disaster  InterestRate  Unemployment Rate   HomeOwnRate  \\\n",
       "44    IL  1991            36.0         0.093               0.073        0.630   \n",
       "45    IL  1992            23.0         0.084               0.079        0.624   \n",
       "46    IL  1993            12.0         0.073               0.074        0.618   \n",
       "47    IL  1994            17.0         0.084               0.058        0.642   \n",
       "48    IL  1995            58.0         0.079               0.052        0.664   \n",
       "49    IL  1996            71.0         0.078               0.053        0.682   \n",
       "50    IL  1997            35.0         0.076               0.048        0.681   \n",
       "51    IL  1998           105.0         0.069               0.044        0.680   \n",
       "52    IL  1999            76.0         0.074               0.044        0.671   \n",
       "53    IL  2000            58.0         0.081               0.043        0.679   \n",
       "54    IL  2001            20.0         0.070               0.053        0.694   \n",
       "55    IL  2002            40.0         0.065               0.065        0.701   \n",
       "56    IL  2003           136.0         0.058               0.068        0.707   \n",
       "57    IL  2004            87.0         0.058               0.062        0.727   \n",
       "58    IL  2005            22.0         0.059               0.057        0.709   \n",
       "59    IL  2006           144.0         0.064               0.045        0.704   \n",
       "60    IL  2007            23.0         0.063               0.050        0.694   \n",
       "61    IL  2008            50.0         0.060               0.063        0.689   \n",
       "62    IL  2009            61.0         0.050               0.102        0.691   \n",
       "63    IL  2010            53.0         0.047               0.104        0.688   \n",
       "64    IL  2011            78.0         0.045               0.097        0.684   \n",
       "65    IL  2012            37.0         0.037               0.090        0.668   \n",
       "66    IL  2013            71.0         0.040               0.090        0.672   \n",
       "\n",
       "    Population  MediumIncome         HPI  Average Temperature (F)  \\\n",
       "44    11535973         31884  146.882787                    53.75   \n",
       "45    11635197         31551  144.089571                    52.08   \n",
       "46    11725984         32857  141.668171                    50.92   \n",
       "47    11804986         35081  149.735000                    52.08   \n",
       "48    11884935         38071  159.270122                    51.67   \n",
       "49    11953003         39554  164.556386                    50.25   \n",
       "50    12011509         41283  170.086627                    51.33   \n",
       "51    12069774         43178  170.318864                    55.33   \n",
       "52    12128370         46330  175.569318                    53.75   \n",
       "53    12434161         46064  182.080114                    52.33   \n",
       "54    12488445         46171  185.640870                    53.50   \n",
       "55    12525556         42710  187.808000                    53.25   \n",
       "56    12556006         45153  191.535158                    51.67   \n",
       "57    12589773         46077  200.566316                    52.67   \n",
       "58    12609903         48398  212.492947                    53.83   \n",
       "59    12643955         48671  222.587684                    54.25   \n",
       "60    12695866         52506  228.332553                    53.83   \n",
       "61    12747038         53254  226.258105                    50.92   \n",
       "62    12796778         52870  216.845670                    51.42   \n",
       "63    12840503         50728  211.505876                    53.00   \n",
       "64    12867454         50637  207.562784                    53.17   \n",
       "65    12882510         51738  205.062887                    55.83   \n",
       "66    12895129         53937  206.145979                    41.25   \n",
       "\n",
       "    Average Temperature (C)  \n",
       "44                    12.00  \n",
       "45                    11.08  \n",
       "46                    10.50  \n",
       "47                    11.08  \n",
       "48                    10.92  \n",
       "49                    10.17  \n",
       "50                    10.50  \n",
       "51                    12.75  \n",
       "52                    11.92  \n",
       "53                    11.33  \n",
       "54                    11.92  \n",
       "55                    11.75  \n",
       "56                    11.08  \n",
       "57                    11.50  \n",
       "58                    12.17  \n",
       "59                    12.33  \n",
       "60                    12.25  \n",
       "61                    10.67  \n",
       "62                    10.67  \n",
       "63                    11.58  \n",
       "64                    12.00  \n",
       "65                    13.00  \n",
       "66                     9.67  "
      ]
     },
     "execution_count": 5,
     "metadata": {},
     "output_type": "execute_result"
    }
   ],
   "source": [
    "#create a new IL dataset to easily reference \n",
    "IL_df = df[\"State\"] == 'IL'\n",
    "\n",
    "IL_filter = df[IL_df]\n",
    "\n",
    "IL_filter"
   ]
  },
  {
   "cell_type": "markdown",
   "metadata": {},
   "source": [
    "# Average Temperature vs. HPI"
   ]
  },
  {
   "cell_type": "code",
   "execution_count": 7,
   "metadata": {},
   "outputs": [
    {
     "name": "stdout",
     "output_type": "stream",
     "text": [
      "The correlation between both factors is 0.01\n"
     ]
    },
    {
     "data": {
      "image/png": "[encoded data removed]",
      "text/plain": [
       "<Figure size 432x288 with 1 Axes>"
      ]
     },
     "metadata": {
      "needs_background": "light"
     },
     "output_type": "display_data"
    }
   ],
   "source": [
    "IL_temp = IL_filter.iloc[:,9]\n",
    "IL_HPI = IL_filter.iloc[:,8]\n",
    "correlation = st.pearsonr(IL_temp, IL_HPI)\n",
    "plt.scatter(IL_temp, IL_HPI)\n",
    "plt.xlabel('Average Temperature (F)')\n",
    "plt.ylabel('HPI')\n",
    "print(f\"The correlation between both factors is {round(correlation[0],2)}\")\n",
    "plt.show()"
   ]
  },
  {
   "cell_type": "code",
   "execution_count": 8,
   "metadata": {},
   "outputs": [
    {
     "name": "stdout",
     "output_type": "stream",
     "text": [
      "The r-squared is: 7.387944227839184e-05\n"
     ]
    },
    {
     "data": {
      "image/png": "[encoded data removed]",
      "text/plain": [
       "<Figure size 432x288 with 1 Axes>"
      ]
     },
     "metadata": {
      "needs_background": "light"
     },
     "output_type": "display_data"
    }
   ],
   "source": [
    "# Add the linear regression equation and line to plot\n",
    "\n",
    "x_values = IL_temp\n",
    "y_values = IL_HPI\n",
    "correlation = st.pearsonr(IL_temp, IL_HPI)\n",
    "(slope, intercept, rvalue, pvalue, stderr) = linregress(x_values, y_values)\n",
    "regress_values = x_values * slope + intercept\n",
    "line_eq = \"y = \" + str(round(slope,2)) + \"x + \" + str(round(intercept,2))\n",
    "plt.scatter(x_values,y_values)\n",
    "plt.plot(x_values,regress_values,\"r-\")\n",
    "plt.annotate(line_eq,(42,150),fontsize=15,color=\"red\")\n",
    "plt.xlabel('Average Temperature (F)')\n",
    "plt.ylabel('HPI')\n",
    "print(f\"The r-squared is: {rvalue**2}\")\n",
    "plt.show()"
   ]
  },
  {
   "cell_type": "markdown",
   "metadata": {},
   "source": [
    "# Average Temperature vs. Home Owner Rate"
   ]
  },
  {
   "cell_type": "code",
   "execution_count": 9,
   "metadata": {},
   "outputs": [
    {
     "name": "stdout",
     "output_type": "stream",
     "text": [
      "The correlation between both factors is 0.12\n"
     ]
    },
    {
     "data": {
      "image/png": "[encoded data removed]",
      "text/plain": [
       "<Figure size 432x288 with 1 Axes>"
      ]
     },
     "metadata": {
      "needs_background": "light"
     },
     "output_type": "display_data"
    }
   ],
   "source": [
    "#correlation between Temperature vs Home Owner Rate\n",
    "\n",
    "IL_HomeOwnerRate = IL_filter.iloc[:,5]\n",
    "correlation = st.pearsonr(IL_temp, IL_HomeOwnerRate)\n",
    "plt.scatter(IL_temp, IL_HomeOwnerRate)\n",
    "plt.xlabel('Average Temperature (F)')\n",
    "plt.ylabel('Home Owner Rate')\n",
    "print(f\"The correlation between both factors is {round(correlation[0],2)}\")\n",
    "plt.show()"
   ]
  },
  {
   "cell_type": "code",
   "execution_count": 10,
   "metadata": {},
   "outputs": [
    {
     "name": "stdout",
     "output_type": "stream",
     "text": [
      "The r-squared is: 0.01486625787670494\n"
     ]
    },
    {
     "data": {
      "image/png": "[encoded data removed]",
      "text/plain": [
       "<Figure size 432x288 with 1 Axes>"
      ]
     },
     "metadata": {
      "needs_background": "light"
     },
     "output_type": "display_data"
    }
   ],
   "source": [
    "# Add the linear regression equation and line to plot\n",
    "\n",
    "x_values = IL_temp\n",
    "y_values = IL_HomeOwnerRate\n",
    "correlation = st.pearsonr(IL_temp, IL_HomeOwnerRate)\n",
    "(slope, intercept, rvalue, pvalue, stderr) = linregress(x_values, y_values)\n",
    "regress_values = x_values * slope + intercept\n",
    "line_eq = \"y = \" + str(round(slope,2)) + \"x + \" + str(round(intercept,2))\n",
    "plt.scatter(x_values,y_values)\n",
    "plt.plot(x_values,regress_values,\"r-\")\n",
    "plt.annotate(line_eq,(44,.64),fontsize=15,color=\"red\")\n",
    "plt.xlabel('Average Temperature (F)')\n",
    "plt.ylabel('Home Owner Rate')\n",
    "print(f\"The r-squared is: {rvalue**2}\")\n",
    "plt.show()"
   ]
  },
  {
   "cell_type": "markdown",
   "metadata": {},
   "source": [
    "# Average Temperature vs. Interest Rate"
   ]
  },
  {
   "cell_type": "code",
   "execution_count": 11,
   "metadata": {},
   "outputs": [
    {
     "name": "stdout",
     "output_type": "stream",
     "text": [
      "The correlation between both factors is 0.18\n"
     ]
    },
    {
     "data": {
      "image/png": "[encoded data removed]",
      "text/plain": [
       "<Figure size 432x288 with 1 Axes>"
      ]
     },
     "metadata": {
      "needs_background": "light"
     },
     "output_type": "display_data"
    }
   ],
   "source": [
    "#correlation between Temperature vs Interest Rate\n",
    "IL_Interest = IL_filter.iloc[:,3]\n",
    "correlation = st.pearsonr(IL_temp, IL_Interest)\n",
    "plt.scatter(IL_temp, IL_HomeOwnerRate)\n",
    "plt.xlabel('Average Temperature (F)')\n",
    "plt.ylabel('Interest Rate')\n",
    "print(f\"The correlation between both factors is {round(correlation[0],2)}\")\n",
    "plt.show()"
   ]
  },
  {
   "cell_type": "code",
   "execution_count": 12,
   "metadata": {},
   "outputs": [
    {
     "name": "stdout",
     "output_type": "stream",
     "text": [
      "The r-squared is: 0.031158639029418803\n"
     ]
    },
    {
     "data": {
      "image/png": "[encoded data removed]",
      "text/plain": [
       "<Figure size 432x288 with 1 Axes>"
      ]
     },
     "metadata": {
      "needs_background": "light"
     },
     "output_type": "display_data"
    }
   ],
   "source": [
    "# Add the linear regression equation and line to plot\n",
    "\n",
    "x_values = IL_temp\n",
    "y_values = IL_Interest\n",
    "correlation = st.pearsonr(IL_temp, IL_Interest)\n",
    "(slope, intercept, rvalue, pvalue, stderr) = linregress(x_values, y_values)\n",
    "regress_values = x_values * slope + intercept\n",
    "line_eq = \"y = \" + str(round(slope,2)) + \"x + \" + str(round(intercept,2))\n",
    "plt.scatter(x_values,y_values)\n",
    "plt.plot(x_values,regress_values,\"r-\")\n",
    "plt.annotate(line_eq,(44,.05),fontsize=15,color=\"red\")\n",
    "plt.xlabel('Average Temperature (F)')\n",
    "plt.ylabel('Interest Rate')\n",
    "print(f\"The r-squared is: {rvalue**2}\")\n",
    "plt.show()"
   ]
  },
  {
   "cell_type": "markdown",
   "metadata": {},
   "source": [
    "# HPI vs Interest Rate"
   ]
  },
  {
   "cell_type": "code",
   "execution_count": 13,
   "metadata": {},
   "outputs": [
    {
     "name": "stdout",
     "output_type": "stream",
     "text": [
      "The correlation between both factors is -0.77\n"
     ]
    },
    {
     "data": {
      "image/png": "[encoded data removed]",
      "text/plain": [
       "<Figure size 432x288 with 1 Axes>"
      ]
     },
     "metadata": {
      "needs_background": "light"
     },
     "output_type": "display_data"
    }
   ],
   "source": [
    "#correlation between Temperature vs Interest Rate\n",
    "correlation = st.pearsonr(IL_HPI, IL_Interest)\n",
    "plt.scatter(IL_HPI, IL_Interest)\n",
    "plt.xlabel('HPI')\n",
    "plt.ylabel('Interest Rate')\n",
    "print(f\"The correlation between both factors is {round(correlation[0],2)}\")\n",
    "plt.show()"
   ]
  },
  {
   "cell_type": "code",
   "execution_count": 28,
   "metadata": {},
   "outputs": [
    {
     "name": "stdout",
     "output_type": "stream",
     "text": [
      "The r-squared is: 0.589005672444225\n"
     ]
    },
    {
     "data": {
      "image/png": "[encoded data removed]",
      "text/plain": [
       "<Figure size 432x288 with 1 Axes>"
      ]
     },
     "metadata": {
      "needs_background": "light"
     },
     "output_type": "display_data"
    }
   ],
   "source": [
    "# Add the linear regression equation and line to plot\n",
    "x_values = IL_HPI\n",
    "y_values = IL_Interest\n",
    "correlation = st.pearsonr(IL_HPI, IL_Interest)\n",
    "(slope, intercept, rvalue, pvalue, stderr) = linregress(x_values, y_values)\n",
    "regress_values = x_values * slope + intercept\n",
    "line_eq = \"y = \" + str(round(slope,2)) + \"x + \" + str(round(intercept,2))\n",
    "plt.scatter(x_values,y_values)\n",
    "plt.plot(x_values,regress_values,\"r-\")\n",
    "plt.annotate(line_eq,(150,.05),fontsize=15,color=\"red\")\n",
    "plt.xlabel('HPI')\n",
    "plt.ylabel('Interest Rate')\n",
    "print(f\"The r-squared is: {rvalue**2}\")\n",
    "plt.show()"
   ]
  },
  {
   "cell_type": "markdown",
   "metadata": {},
   "source": [
    "# Total Disaster vs. Interest Rate"
   ]
  },
  {
   "cell_type": "code",
   "execution_count": 15,
   "metadata": {},
   "outputs": [
    {
     "name": "stdout",
     "output_type": "stream",
     "text": [
      "The correlation between both factors is -0.25\n"
     ]
    },
    {
     "data": {
      "image/png": "[encoded data removed]",
      "text/plain": [
       "<Figure size 432x288 with 1 Axes>"
      ]
     },
     "metadata": {
      "needs_background": "light"
     },
     "output_type": "display_data"
    }
   ],
   "source": [
    "#correlation between Temperature vs Interest Rate\n",
    "IL_total_disaster = IL_filter.iloc[:,2]\n",
    "correlation = st.pearsonr(IL_total_disaster, IL_Interest)\n",
    "plt.scatter(IL_total_disaster, IL_Interest)\n",
    "plt.xlabel('Total Disaster (SUM)')\n",
    "plt.ylabel('Interest Rate')\n",
    "print(f\"The correlation between both factors is {round(correlation[0],2)}\")\n",
    "plt.show()"
   ]
  },
  {
   "cell_type": "code",
   "execution_count": 31,
   "metadata": {},
   "outputs": [
    {
     "name": "stdout",
     "output_type": "stream",
     "text": [
      "The r-squared is: 0.08876204005288198\n"
     ]
    },
    {
     "data": {
      "image/png": "[encoded data removed]",
      "text/plain": [
       "<Figure size 432x288 with 1 Axes>"
      ]
     },
     "metadata": {
      "needs_background": "light"
     },
     "output_type": "display_data"
    }
   ],
   "source": [
    "# Add the linear regression equation and line to plot\n",
    "x_values = IL_total_disaster\n",
    "y_values = IL_HPI\n",
    "correlation = st.pearsonr(IL_total_disaster, IL_HPI)\n",
    "(slope, intercept, rvalue, pvalue, stderr) = linregress(x_values, y_values)\n",
    "regress_values = x_values * slope + intercept\n",
    "line_eq = \"y = \" + str(round(slope,2)) + \"x + \" + str(round(intercept,2))\n",
    "plt.scatter(x_values,y_values)\n",
    "plt.plot(x_values,regress_values,\"r-\")\n",
    "plt.annotate(line_eq,(100,180),fontsize=10,color=\"red\")\n",
    "plt.xlabel('Total Disaster (SUM)')\n",
    "plt.ylabel('HPI')\n",
    "print(f\"The r-squared is: {rvalue**2}\")\n",
    "plt.show()"
   ]
  },
  {
   "cell_type": "markdown",
   "metadata": {},
   "source": [
    "# Total Disaster vs. HPI"
   ]
  },
  {
   "cell_type": "code",
   "execution_count": 19,
   "metadata": {},
   "outputs": [
    {
     "name": "stdout",
     "output_type": "stream",
     "text": [
      "The correlation between both factors is 0.3\n"
     ]
    },
    {
     "data": {
      "image/png": "[encoded data removed]",
      "text/plain": [
       "<Figure size 432x288 with 1 Axes>"
      ]
     },
     "metadata": {
      "needs_background": "light"
     },
     "output_type": "display_data"
    }
   ],
   "source": [
    "#correlation between Temperature vs Interest Rate\n",
    "correlation = st.pearsonr(IL_total_disaster, IL_HPI)\n",
    "plt.scatter(IL_total_disaster, IL_Interest)\n",
    "plt.xlabel('Total Disaster (SUM)')\n",
    "plt.ylabel('HPI')\n",
    "print(f\"The correlation between both factors is {round(correlation[0],2)}\")\n",
    "plt.show()"
   ]
  },
  {
   "cell_type": "code",
   "execution_count": 34,
   "metadata": {},
   "outputs": [
    {
     "name": "stdout",
     "output_type": "stream",
     "text": [
      "The r-squared is: 0.08876204005288198\n"
     ]
    },
    {
     "data": {
      "image/png": "[encoded data removed]",
      "text/plain": [
       "<Figure size 432x288 with 1 Axes>"
      ]
     },
     "metadata": {
      "needs_background": "light"
     },
     "output_type": "display_data"
    }
   ],
   "source": [
    "# Add the linear regression equation and line to plot\n",
    "x_values = IL_total_disaster\n",
    "y_values = IL_HPI\n",
    "correlation = st.pearsonr(IL_total_disaster, IL_HPI)\n",
    "(slope, intercept, rvalue, pvalue, stderr) = linregress(x_values, y_values)\n",
    "regress_values = x_values * slope + intercept\n",
    "line_eq = \"y = \" + str(round(slope,2)) + \"x + \" + str(round(intercept,2))\n",
    "plt.scatter(x_values,y_values)\n",
    "plt.plot(x_values,regress_values,\"r-\")\n",
    "plt.annotate(line_eq,(80,180),fontsize=15,color=\"red\")\n",
    "plt.xlabel('Total Disaster (SUM)')\n",
    "plt.ylabel('HPI')\n",
    "print(f\"The r-squared is: {rvalue**2}\")\n",
    "plt.show()"
   ]
  },
  {
   "cell_type": "markdown",
   "metadata": {},
   "source": [
    "# Uemployment vs. HPI"
   ]
  },
  {
   "cell_type": "code",
   "execution_count": 21,
   "metadata": {},
   "outputs": [
    {
     "name": "stdout",
     "output_type": "stream",
     "text": [
      "The correlation between both factors is 0.22\n"
     ]
    },
    {
     "data": {
      "image/png": "[encoded data removed]",
      "text/plain": [
       "<Figure size 432x288 with 1 Axes>"
      ]
     },
     "metadata": {
      "needs_background": "light"
     },
     "output_type": "display_data"
    }
   ],
   "source": [
    "#correlation between Temperature vs Interest Rate\n",
    "IL_unemployment = IL_filter.iloc[:,4]\n",
    "correlation = st.pearsonr(IL_unemployment, IL_HPI)\n",
    "plt.scatter(IL_unemployment, IL_Interest)\n",
    "plt.xlabel('Unemployment Rate')\n",
    "plt.ylabel('HPI')\n",
    "print(f\"The correlation between both factors is {round(correlation[0],2)}\")\n",
    "plt.show()"
   ]
  },
  {
   "cell_type": "code",
   "execution_count": 37,
   "metadata": {},
   "outputs": [
    {
     "name": "stdout",
     "output_type": "stream",
     "text": [
      "The r-squared is: 0.04668424865315822\n"
     ]
    },
    {
     "data": {
      "image/png": "[encoded data removed]",
      "text/plain": [
       "<Figure size 432x288 with 1 Axes>"
      ]
     },
     "metadata": {
      "needs_background": "light"
     },
     "output_type": "display_data"
    }
   ],
   "source": [
    "# Add the linear regression equation and line to plot\n",
    "x_values = IL_unemployment\n",
    "y_values = IL_HPI\n",
    "correlation = st.pearsonr(IL_unemployment, IL_HPI)\n",
    "(slope, intercept, rvalue, pvalue, stderr) = linregress(x_values, y_values)\n",
    "regress_values = x_values * slope + intercept\n",
    "line_eq = \"y = \" + str(round(slope,2)) + \"x + \" + str(round(intercept,2))\n",
    "plt.scatter(x_values,y_values)\n",
    "plt.plot(x_values,regress_values,\"r-\")\n",
    "plt.annotate(line_eq,(.07,170),fontsize=15,color=\"red\")\n",
    "plt.xlabel('Unemployment Rate')\n",
    "plt.ylabel('HPI')\n",
    "print(f\"The r-squared is: {rvalue**2}\")\n",
    "plt.show()"
   ]
  },
  {
   "cell_type": "markdown",
   "metadata": {},
   "source": [
    "# Medium Income vs. HPI "
   ]
  },
  {
   "cell_type": "code",
   "execution_count": 23,
   "metadata": {},
   "outputs": [
    {
     "name": "stdout",
     "output_type": "stream",
     "text": [
      "The correlation between both factors is 0.94\n"
     ]
    },
    {
     "data": {
      "image/png": "[encoded data removed]",
      "text/plain": [
       "<Figure size 432x288 with 1 Axes>"
      ]
     },
     "metadata": {
      "needs_background": "light"
     },
     "output_type": "display_data"
    }
   ],
   "source": [
    "#correlation between Temperature vs Interest Rate\n",
    "IL_medium_income = IL_filter.iloc[:,7]\n",
    "correlation = st.pearsonr(IL_medium_income, IL_HPI)\n",
    "plt.scatter(IL_medium_income, IL_Interest)\n",
    "plt.xlabel('Medium Income')\n",
    "plt.ylabel('HPI')\n",
    "print(f\"The correlation between both factors is {round(correlation[0],2)}\")\n",
    "plt.show()"
   ]
  },
  {
   "cell_type": "code",
   "execution_count": 26,
   "metadata": {},
   "outputs": [
    {
     "name": "stdout",
     "output_type": "stream",
     "text": [
      "The r-squared is: 0.8852503230807891\n"
     ]
    },
    {
     "data": {
      "image/png": "[encoded data removed]",
      "text/plain": [
       "<Figure size 432x288 with 1 Axes>"
      ]
     },
     "metadata": {
      "needs_background": "light"
     },
     "output_type": "display_data"
    }
   ],
   "source": [
    "# Add the linear regression equation and line to plot\n",
    "x_values = IL_medium_income\n",
    "y_values = IL_HPI\n",
    "correlation = st.pearsonr(IL_medium_income, IL_HPI)\n",
    "(slope, intercept, rvalue, pvalue, stderr) = linregress(x_values, y_values)\n",
    "regress_values = x_values * slope + intercept\n",
    "line_eq = \"y = \" + str(round(slope,2)) + \"x + \" + str(round(intercept,2))\n",
    "plt.scatter(x_values,y_values)\n",
    "plt.plot(x_values,regress_values,\"r-\")\n",
    "plt.annotate(line_eq,(40000,150),fontsize=15,color=\"red\")\n",
    "plt.xlabel('Medium Income')\n",
    "plt.ylabel('HPI')\n",
    "print(f\"The r-squared is: {rvalue**2}\")\n",
    "plt.show()"
   ]
  },
  {
   "cell_type": "markdown",
   "metadata": {},
   "source": [
    "# Florida Analysis"
   ]
  },
  {
   "cell_type": "code",
   "execution_count": 41,
   "metadata": {},
   "outputs": [
    {
     "data": {
      "text/html": [
       "<div>\n",
       "<style scoped>\n",
       "    .dataframe tbody tr th:only-of-type {\n",
       "        vertical-align: middle;\n",
       "    }\n",
       "\n",
       "    .dataframe tbody tr th {\n",
       "        vertical-align: top;\n",
       "    }\n",
       "\n",
       "    .dataframe thead th {\n",
       "        text-align: right;\n",
       "    }\n",
       "</style>\n",
       "<table border=\"1\" class=\"dataframe\">\n",
       "  <thead>\n",
       "    <tr style=\"text-align: right;\">\n",
       "      <th></th>\n",
       "      <th>State</th>\n",
       "      <th>Year</th>\n",
       "      <th>Total_Disaster</th>\n",
       "      <th>InterestRate</th>\n",
       "      <th>Unemployment Rate</th>\n",
       "      <th>HomeOwnRate</th>\n",
       "      <th>Population</th>\n",
       "      <th>MediumIncome</th>\n",
       "      <th>HPI</th>\n",
       "      <th>Average Temperature (F)</th>\n",
       "      <th>Average Temperature (C)</th>\n",
       "    </tr>\n",
       "  </thead>\n",
       "  <tbody>\n",
       "    <tr>\n",
       "      <th>24</th>\n",
       "      <td>FL</td>\n",
       "      <td>1996</td>\n",
       "      <td>34.0</td>\n",
       "      <td>0.078</td>\n",
       "      <td>0.052</td>\n",
       "      <td>0.671</td>\n",
       "      <td>14426911</td>\n",
       "      <td>49876</td>\n",
       "      <td>186.620192</td>\n",
       "      <td>70.25</td>\n",
       "      <td>21.17</td>\n",
       "    </tr>\n",
       "    <tr>\n",
       "      <th>25</th>\n",
       "      <td>FL</td>\n",
       "      <td>1998</td>\n",
       "      <td>113.0</td>\n",
       "      <td>0.069</td>\n",
       "      <td>0.043</td>\n",
       "      <td>0.669</td>\n",
       "      <td>14908230</td>\n",
       "      <td>54878</td>\n",
       "      <td>193.858214</td>\n",
       "      <td>72.92</td>\n",
       "      <td>22.50</td>\n",
       "    </tr>\n",
       "    <tr>\n",
       "      <th>26</th>\n",
       "      <td>FL</td>\n",
       "      <td>1999</td>\n",
       "      <td>59.0</td>\n",
       "      <td>0.074</td>\n",
       "      <td>0.039</td>\n",
       "      <td>0.676</td>\n",
       "      <td>15111244</td>\n",
       "      <td>55153</td>\n",
       "      <td>201.104643</td>\n",
       "      <td>71.58</td>\n",
       "      <td>21.75</td>\n",
       "    </tr>\n",
       "    <tr>\n",
       "      <th>27</th>\n",
       "      <td>FL</td>\n",
       "      <td>2000</td>\n",
       "      <td>52.0</td>\n",
       "      <td>0.081</td>\n",
       "      <td>0.037</td>\n",
       "      <td>0.684</td>\n",
       "      <td>16047515</td>\n",
       "      <td>57846</td>\n",
       "      <td>213.664821</td>\n",
       "      <td>71.00</td>\n",
       "      <td>21.50</td>\n",
       "    </tr>\n",
       "    <tr>\n",
       "      <th>28</th>\n",
       "      <td>FL</td>\n",
       "      <td>2001</td>\n",
       "      <td>51.0</td>\n",
       "      <td>0.070</td>\n",
       "      <td>0.047</td>\n",
       "      <td>0.692</td>\n",
       "      <td>16356966</td>\n",
       "      <td>52720</td>\n",
       "      <td>225.201864</td>\n",
       "      <td>71.42</td>\n",
       "      <td>21.58</td>\n",
       "    </tr>\n",
       "    <tr>\n",
       "      <th>29</th>\n",
       "      <td>FL</td>\n",
       "      <td>2002</td>\n",
       "      <td>35.0</td>\n",
       "      <td>0.065</td>\n",
       "      <td>0.056</td>\n",
       "      <td>0.687</td>\n",
       "      <td>16689370</td>\n",
       "      <td>54186</td>\n",
       "      <td>239.985500</td>\n",
       "      <td>72.00</td>\n",
       "      <td>21.83</td>\n",
       "    </tr>\n",
       "    <tr>\n",
       "      <th>30</th>\n",
       "      <td>FL</td>\n",
       "      <td>2004</td>\n",
       "      <td>156.0</td>\n",
       "      <td>0.058</td>\n",
       "      <td>0.046</td>\n",
       "      <td>0.722</td>\n",
       "      <td>17415318</td>\n",
       "      <td>54996</td>\n",
       "      <td>289.774355</td>\n",
       "      <td>71.33</td>\n",
       "      <td>21.67</td>\n",
       "    </tr>\n",
       "    <tr>\n",
       "      <th>31</th>\n",
       "      <td>FL</td>\n",
       "      <td>2005</td>\n",
       "      <td>134.0</td>\n",
       "      <td>0.059</td>\n",
       "      <td>0.037</td>\n",
       "      <td>0.724</td>\n",
       "      <td>17842038</td>\n",
       "      <td>56416</td>\n",
       "      <td>362.063387</td>\n",
       "      <td>71.17</td>\n",
       "      <td>21.42</td>\n",
       "    </tr>\n",
       "    <tr>\n",
       "      <th>32</th>\n",
       "      <td>FL</td>\n",
       "      <td>2006</td>\n",
       "      <td>56.0</td>\n",
       "      <td>0.064</td>\n",
       "      <td>0.032</td>\n",
       "      <td>0.724</td>\n",
       "      <td>18166990</td>\n",
       "      <td>58059</td>\n",
       "      <td>412.042381</td>\n",
       "      <td>71.75</td>\n",
       "      <td>21.92</td>\n",
       "    </tr>\n",
       "    <tr>\n",
       "      <th>33</th>\n",
       "      <td>FL</td>\n",
       "      <td>2007</td>\n",
       "      <td>16.0</td>\n",
       "      <td>0.063</td>\n",
       "      <td>0.040</td>\n",
       "      <td>0.718</td>\n",
       "      <td>18367842</td>\n",
       "      <td>56604</td>\n",
       "      <td>397.869844</td>\n",
       "      <td>72.17</td>\n",
       "      <td>22.17</td>\n",
       "    </tr>\n",
       "    <tr>\n",
       "      <th>34</th>\n",
       "      <td>FL</td>\n",
       "      <td>2008</td>\n",
       "      <td>80.0</td>\n",
       "      <td>0.060</td>\n",
       "      <td>0.063</td>\n",
       "      <td>0.711</td>\n",
       "      <td>18527305</td>\n",
       "      <td>53394</td>\n",
       "      <td>344.691875</td>\n",
       "      <td>71.33</td>\n",
       "      <td>21.58</td>\n",
       "    </tr>\n",
       "    <tr>\n",
       "      <th>35</th>\n",
       "      <td>FL</td>\n",
       "      <td>2009</td>\n",
       "      <td>11.0</td>\n",
       "      <td>0.050</td>\n",
       "      <td>0.104</td>\n",
       "      <td>0.709</td>\n",
       "      <td>18652644</td>\n",
       "      <td>54505</td>\n",
       "      <td>289.924219</td>\n",
       "      <td>71.67</td>\n",
       "      <td>21.58</td>\n",
       "    </tr>\n",
       "    <tr>\n",
       "      <th>36</th>\n",
       "      <td>FL</td>\n",
       "      <td>2010</td>\n",
       "      <td>1.0</td>\n",
       "      <td>0.047</td>\n",
       "      <td>0.111</td>\n",
       "      <td>0.693</td>\n",
       "      <td>18845537</td>\n",
       "      <td>51782</td>\n",
       "      <td>259.850781</td>\n",
       "      <td>69.75</td>\n",
       "      <td>20.83</td>\n",
       "    </tr>\n",
       "    <tr>\n",
       "      <th>37</th>\n",
       "      <td>FL</td>\n",
       "      <td>2011</td>\n",
       "      <td>4.0</td>\n",
       "      <td>0.045</td>\n",
       "      <td>0.100</td>\n",
       "      <td>0.690</td>\n",
       "      <td>19053237</td>\n",
       "      <td>51383</td>\n",
       "      <td>242.699844</td>\n",
       "      <td>72.17</td>\n",
       "      <td>22.25</td>\n",
       "    </tr>\n",
       "    <tr>\n",
       "      <th>38</th>\n",
       "      <td>FL</td>\n",
       "      <td>2012</td>\n",
       "      <td>59.0</td>\n",
       "      <td>0.037</td>\n",
       "      <td>0.085</td>\n",
       "      <td>0.670</td>\n",
       "      <td>19297822</td>\n",
       "      <td>51395</td>\n",
       "      <td>236.148281</td>\n",
       "      <td>72.25</td>\n",
       "      <td>22.17</td>\n",
       "    </tr>\n",
       "    <tr>\n",
       "      <th>39</th>\n",
       "      <td>FL</td>\n",
       "      <td>2013</td>\n",
       "      <td>8.0</td>\n",
       "      <td>0.040</td>\n",
       "      <td>0.072</td>\n",
       "      <td>0.661</td>\n",
       "      <td>19545621</td>\n",
       "      <td>53350</td>\n",
       "      <td>248.305781</td>\n",
       "      <td>54.67</td>\n",
       "      <td>17.00</td>\n",
       "    </tr>\n",
       "  </tbody>\n",
       "</table>\n",
       "</div>"
      ],
      "text/plain": [
       "   State  Year  Total_Disaster  InterestRate  Unemployment Rate   HomeOwnRate  \\\n",
       "24    FL  1996            34.0         0.078               0.052        0.671   \n",
       "25    FL  1998           113.0         0.069               0.043        0.669   \n",
       "26    FL  1999            59.0         0.074               0.039        0.676   \n",
       "27    FL  2000            52.0         0.081               0.037        0.684   \n",
       "28    FL  2001            51.0         0.070               0.047        0.692   \n",
       "29    FL  2002            35.0         0.065               0.056        0.687   \n",
       "30    FL  2004           156.0         0.058               0.046        0.722   \n",
       "31    FL  2005           134.0         0.059               0.037        0.724   \n",
       "32    FL  2006            56.0         0.064               0.032        0.724   \n",
       "33    FL  2007            16.0         0.063               0.040        0.718   \n",
       "34    FL  2008            80.0         0.060               0.063        0.711   \n",
       "35    FL  2009            11.0         0.050               0.104        0.709   \n",
       "36    FL  2010             1.0         0.047               0.111        0.693   \n",
       "37    FL  2011             4.0         0.045               0.100        0.690   \n",
       "38    FL  2012            59.0         0.037               0.085        0.670   \n",
       "39    FL  2013             8.0         0.040               0.072        0.661   \n",
       "\n",
       "    Population  MediumIncome         HPI  Average Temperature (F)  \\\n",
       "24    14426911         49876  186.620192                    70.25   \n",
       "25    14908230         54878  193.858214                    72.92   \n",
       "26    15111244         55153  201.104643                    71.58   \n",
       "27    16047515         57846  213.664821                    71.00   \n",
       "28    16356966         52720  225.201864                    71.42   \n",
       "29    16689370         54186  239.985500                    72.00   \n",
       "30    17415318         54996  289.774355                    71.33   \n",
       "31    17842038         56416  362.063387                    71.17   \n",
       "32    18166990         58059  412.042381                    71.75   \n",
       "33    18367842         56604  397.869844                    72.17   \n",
       "34    18527305         53394  344.691875                    71.33   \n",
       "35    18652644         54505  289.924219                    71.67   \n",
       "36    18845537         51782  259.850781                    69.75   \n",
       "37    19053237         51383  242.699844                    72.17   \n",
       "38    19297822         51395  236.148281                    72.25   \n",
       "39    19545621         53350  248.305781                    54.67   \n",
       "\n",
       "    Average Temperature (C)  \n",
       "24                    21.17  \n",
       "25                    22.50  \n",
       "26                    21.75  \n",
       "27                    21.50  \n",
       "28                    21.58  \n",
       "29                    21.83  \n",
       "30                    21.67  \n",
       "31                    21.42  \n",
       "32                    21.92  \n",
       "33                    22.17  \n",
       "34                    21.58  \n",
       "35                    21.58  \n",
       "36                    20.83  \n",
       "37                    22.25  \n",
       "38                    22.17  \n",
       "39                    17.00  "
      ]
     },
     "execution_count": 41,
     "metadata": {},
     "output_type": "execute_result"
    }
   ],
   "source": [
    "#create a new IL dataset to easily reference \n",
    "FL_df = df[\"State\"] == 'FL'\n",
    "\n",
    "FL_filter = df[FL_df]\n",
    "\n",
    "FL_filter"
   ]
  },
  {
   "cell_type": "markdown",
   "metadata": {},
   "source": [
    "# Average Temperature vs HPI"
   ]
  },
  {
   "cell_type": "code",
   "execution_count": 42,
   "metadata": {},
   "outputs": [
    {
     "name": "stdout",
     "output_type": "stream",
     "text": [
      "The correlation between both factors is 0.1\n"
     ]
    },
    {
     "data": {
      "image/png": "[encoded data removed]",
      "text/plain": [
       "<Figure size 432x288 with 1 Axes>"
      ]
     },
     "metadata": {
      "needs_background": "light"
     },
     "output_type": "display_data"
    }
   ],
   "source": [
    "FL_temp = FL_filter.iloc[:,9]\n",
    "FL_HPI = FL_filter.iloc[:,8]\n",
    "correlation = st.pearsonr(FL_temp, FL_HPI)\n",
    "plt.scatter(FL_temp, FL_HPI)\n",
    "plt.xlabel('Average Temperature (F)')\n",
    "plt.ylabel('HPI')\n",
    "print(f\"The correlation between both factors is {round(correlation[0],2)}\")\n",
    "plt.show()"
   ]
  },
  {
   "cell_type": "code",
   "execution_count": 44,
   "metadata": {},
   "outputs": [
    {
     "name": "stdout",
     "output_type": "stream",
     "text": [
      "The r-squared is: 0.009489037208669598\n"
     ]
    },
    {
     "data": {
      "image/png": "[encoded data removed]",
      "text/plain": [
       "<Figure size 432x288 with 1 Axes>"
      ]
     },
     "metadata": {
      "needs_background": "light"
     },
     "output_type": "display_data"
    }
   ],
   "source": [
    "# Add the linear regression equation and line to plot\n",
    "\n",
    "x_values = FL_temp\n",
    "y_values = FL_HPI\n",
    "correlation = st.pearsonr(FL_temp, FL_HPI)\n",
    "(slope, intercept, rvalue, pvalue, stderr) = linregress(x_values, y_values)\n",
    "regress_values = x_values * slope + intercept\n",
    "line_eq = \"y = \" + str(round(slope,2)) + \"x + \" + str(round(intercept,2))\n",
    "plt.scatter(x_values,y_values)\n",
    "plt.plot(x_values,regress_values,\"r-\")\n",
    "plt.annotate(line_eq,(60,275),fontsize=15,color=\"red\")\n",
    "plt.xlabel('Average Temperature (F)')\n",
    "plt.ylabel('HPI')\n",
    "print(f\"The r-squared is: {rvalue**2}\")\n",
    "plt.show()"
   ]
  },
  {
   "cell_type": "markdown",
   "metadata": {},
   "source": [
    "# Average Temperature vs. Home Owner Rate"
   ]
  },
  {
   "cell_type": "code",
   "execution_count": 45,
   "metadata": {},
   "outputs": [
    {
     "name": "stdout",
     "output_type": "stream",
     "text": [
      "The correlation between both factors is 0.39\n"
     ]
    },
    {
     "data": {
      "image/png": "[encoded data removed]",
      "text/plain": [
       "<Figure size 432x288 with 1 Axes>"
      ]
     },
     "metadata": {
      "needs_background": "light"
     },
     "output_type": "display_data"
    }
   ],
   "source": [
    "#correlation between Temperature vs Home Owner Rate\n",
    "\n",
    "FL_HomeOwnerRate = FL_filter.iloc[:,5]\n",
    "correlation = st.pearsonr(FL_temp, FL_HomeOwnerRate)\n",
    "plt.scatter(FL_temp, FL_HomeOwnerRate)\n",
    "plt.xlabel('Average Temperature (F)')\n",
    "plt.ylabel('Home Owner Rate')\n",
    "print(f\"The correlation between both factors is {round(correlation[0],2)}\")\n",
    "plt.show()"
   ]
  },
  {
   "cell_type": "code",
   "execution_count": 47,
   "metadata": {},
   "outputs": [
    {
     "name": "stdout",
     "output_type": "stream",
     "text": [
      "The r-squared is: 0.1492226061296441\n"
     ]
    },
    {
     "data": {
      "image/png": "[encoded data removed]",
      "text/plain": [
       "<Figure size 432x288 with 1 Axes>"
      ]
     },
     "metadata": {
      "needs_background": "light"
     },
     "output_type": "display_data"
    }
   ],
   "source": [
    "# Add the linear regression equation and line to plot\n",
    "\n",
    "x_values = FL_temp\n",
    "y_values = FL_HomeOwnerRate\n",
    "correlation = st.pearsonr(FL_temp, FL_HomeOwnerRate)\n",
    "(slope, intercept, rvalue, pvalue, stderr) = linregress(x_values, y_values)\n",
    "regress_values = x_values * slope + intercept\n",
    "line_eq = \"y = \" + str(round(slope,2)) + \"x + \" + str(round(intercept,2))\n",
    "plt.scatter(x_values,y_values)\n",
    "plt.plot(x_values,regress_values,\"r-\")\n",
    "plt.annotate(line_eq,(60,.66),fontsize=15,color=\"red\")\n",
    "plt.xlabel('Average Temperature (F)')\n",
    "plt.ylabel('Home Owner Rate')\n",
    "print(f\"The r-squared is: {rvalue**2}\")\n",
    "plt.show()"
   ]
  },
  {
   "cell_type": "markdown",
   "metadata": {},
   "source": [
    "# Average Temperature vs. Interest Rate"
   ]
  },
  {
   "cell_type": "code",
   "execution_count": 48,
   "metadata": {},
   "outputs": [
    {
     "name": "stdout",
     "output_type": "stream",
     "text": [
      "The correlation between both factors is 0.37\n"
     ]
    },
    {
     "data": {
      "image/png": "[encoded data removed]",
      "text/plain": [
       "<Figure size 432x288 with 1 Axes>"
      ]
     },
     "metadata": {
      "needs_background": "light"
     },
     "output_type": "display_data"
    }
   ],
   "source": [
    "#correlation between Temperature vs Interest Rate\n",
    "FL_Interest = FL_filter.iloc[:,3]\n",
    "correlation = st.pearsonr(FL_temp, FL_Interest)\n",
    "plt.scatter(FL_temp, FL_HomeOwnerRate)\n",
    "plt.xlabel('Average Temperature (F)')\n",
    "plt.ylabel('Interest Rate')\n",
    "print(f\"The correlation between both factors is {round(correlation[0],2)}\")\n",
    "plt.show()"
   ]
  },
  {
   "cell_type": "code",
   "execution_count": 50,
   "metadata": {},
   "outputs": [
    {
     "name": "stdout",
     "output_type": "stream",
     "text": [
      "The r-squared is: 0.1391654492459997\n"
     ]
    },
    {
     "data": {
      "image/png": "[encoded data removed]",
      "text/plain": [
       "<Figure size 432x288 with 1 Axes>"
      ]
     },
     "metadata": {
      "needs_background": "light"
     },
     "output_type": "display_data"
    }
   ],
   "source": [
    "# Add the linear regression equation and line to plot\n",
    "\n",
    "x_values = FL_temp\n",
    "y_values = FL_Interest\n",
    "correlation = st.pearsonr(FL_temp, FL_Interest)\n",
    "(slope, intercept, rvalue, pvalue, stderr) = linregress(x_values, y_values)\n",
    "regress_values = x_values * slope + intercept\n",
    "line_eq = \"y = \" + str(round(slope,2)) + \"x + \" + str(round(intercept,2))\n",
    "plt.scatter(x_values,y_values)\n",
    "plt.plot(x_values,regress_values,\"r-\")\n",
    "plt.annotate(line_eq,(60,.04),fontsize=15,color=\"red\")\n",
    "plt.xlabel('Average Temperature (F)')\n",
    "plt.ylabel('Interest Rate')\n",
    "print(f\"The r-squared is: {rvalue**2}\")\n",
    "plt.show()"
   ]
  },
  {
   "cell_type": "markdown",
   "metadata": {},
   "source": [
    "# HPI vs Interest Rate"
   ]
  },
  {
   "cell_type": "code",
   "execution_count": 51,
   "metadata": {},
   "outputs": [
    {
     "name": "stdout",
     "output_type": "stream",
     "text": [
      "The correlation between both factors is -0.18\n"
     ]
    },
    {
     "data": {
      "image/png": "[encoded data removed]",
      "text/plain": [
       "<Figure size 432x288 with 1 Axes>"
      ]
     },
     "metadata": {
      "needs_background": "light"
     },
     "output_type": "display_data"
    }
   ],
   "source": [
    "#correlation between Temperature vs Interest Rate\n",
    "correlation = st.pearsonr(FL_HPI, FL_Interest)\n",
    "plt.scatter(FL_HPI, FL_Interest)\n",
    "plt.xlabel('HPI')\n",
    "plt.ylabel('Interest Rate')\n",
    "print(f\"The correlation between both factors is {round(correlation[0],2)}\")\n",
    "plt.show()"
   ]
  },
  {
   "cell_type": "code",
   "execution_count": 53,
   "metadata": {},
   "outputs": [
    {
     "name": "stdout",
     "output_type": "stream",
     "text": [
      "The r-squared is: 0.03224905993295961\n"
     ]
    },
    {
     "data": {
      "image/png": "[encoded data removed]",
      "text/plain": [
       "<Figure size 432x288 with 1 Axes>"
      ]
     },
     "metadata": {
      "needs_background": "light"
     },
     "output_type": "display_data"
    }
   ],
   "source": [
    "# Add the linear regression equation and line to plot\n",
    "x_values = FL_HPI\n",
    "y_values = FL_Interest\n",
    "correlation = st.pearsonr(FL_HPI, FL_Interest)\n",
    "(slope, intercept, rvalue, pvalue, stderr) = linregress(x_values, y_values)\n",
    "regress_values = x_values * slope + intercept\n",
    "line_eq = \"y = \" + str(round(slope,2)) + \"x + \" + str(round(intercept,2))\n",
    "plt.scatter(x_values,y_values)\n",
    "plt.plot(x_values,regress_values,\"r-\")\n",
    "plt.annotate(line_eq,(310,.05),fontsize=15,color=\"red\")\n",
    "plt.xlabel('HPI')\n",
    "plt.ylabel('Interest Rate')\n",
    "print(f\"The r-squared is: {rvalue**2}\")\n",
    "plt.show()"
   ]
  },
  {
   "cell_type": "markdown",
   "metadata": {},
   "source": [
    "# Total Disaster vs. Interest Rate"
   ]
  },
  {
   "cell_type": "code",
   "execution_count": 55,
   "metadata": {},
   "outputs": [
    {
     "name": "stdout",
     "output_type": "stream",
     "text": [
      "The correlation between both factors is 0.26\n"
     ]
    },
    {
     "data": {
      "image/png": "[encoded data removed]",
      "text/plain": [
       "<Figure size 432x288 with 1 Axes>"
      ]
     },
     "metadata": {
      "needs_background": "light"
     },
     "output_type": "display_data"
    }
   ],
   "source": [
    "#correlation between Temperature vs Interest Rate\n",
    "FL_total_disaster = FL_filter.iloc[:,2]\n",
    "correlation = st.pearsonr(FL_total_disaster, FL_Interest)\n",
    "plt.scatter(FL_total_disaster, FL_Interest)\n",
    "plt.xlabel('Total Disaster (SUM)')\n",
    "plt.ylabel('Interest Rate')\n",
    "print(f\"The correlation between both factors is {round(correlation[0],2)}\")\n",
    "plt.show()"
   ]
  },
  {
   "cell_type": "code",
   "execution_count": 59,
   "metadata": {},
   "outputs": [
    {
     "name": "stdout",
     "output_type": "stream",
     "text": [
      "The r-squared is: 0.015603390810150655\n"
     ]
    },
    {
     "data": {
      "image/png": "[encoded data removed]",
      "text/plain": [
       "<Figure size 432x288 with 1 Axes>"
      ]
     },
     "metadata": {
      "needs_background": "light"
     },
     "output_type": "display_data"
    }
   ],
   "source": [
    "# Add the linear regression equation and line to plot\n",
    "x_values = FL_total_disaster\n",
    "y_values = FL_HPI\n",
    "correlation = st.pearsonr(FL_total_disaster, FL_HPI)\n",
    "(slope, intercept, rvalue, pvalue, stderr) = linregress(x_values, y_values)\n",
    "regress_values = x_values * slope + intercept\n",
    "line_eq = \"y = \" + str(round(slope,2)) + \"x + \" + str(round(intercept,2))\n",
    "plt.scatter(x_values,y_values)\n",
    "plt.plot(x_values,regress_values,\"r-\")\n",
    "plt.annotate(line_eq,(80,250),fontsize=15,color=\"red\")\n",
    "plt.xlabel('Total Disaster (SUM)')\n",
    "plt.ylabel('HPI')\n",
    "print(f\"The r-squared is: {rvalue**2}\")\n",
    "plt.show()"
   ]
  },
  {
   "cell_type": "markdown",
   "metadata": {},
   "source": [
    "# Total Disaster vs. HPI"
   ]
  },
  {
   "cell_type": "code",
   "execution_count": 60,
   "metadata": {},
   "outputs": [
    {
     "name": "stdout",
     "output_type": "stream",
     "text": [
      "The correlation between both factors is 0.12\n"
     ]
    },
    {
     "data": {
      "image/png": "[encoded data removed]",
      "text/plain": [
       "<Figure size 432x288 with 1 Axes>"
      ]
     },
     "metadata": {
      "needs_background": "light"
     },
     "output_type": "display_data"
    }
   ],
   "source": [
    "#correlation between Temperature vs Interest Rate\n",
    "correlation = st.pearsonr(FL_total_disaster, FL_HPI)\n",
    "plt.scatter(FL_total_disaster, FL_Interest)\n",
    "plt.xlabel('Total Disaster (SUM)')\n",
    "plt.ylabel('HPI')\n",
    "print(f\"The correlation between both factors is {round(correlation[0],2)}\")\n",
    "plt.show()"
   ]
  },
  {
   "cell_type": "code",
   "execution_count": 62,
   "metadata": {},
   "outputs": [
    {
     "name": "stdout",
     "output_type": "stream",
     "text": [
      "The r-squared is: 0.015603390810150655\n"
     ]
    },
    {
     "data": {
      "image/png": "[encoded data removed]",
      "text/plain": [
       "<Figure size 432x288 with 1 Axes>"
      ]
     },
     "metadata": {
      "needs_background": "light"
     },
     "output_type": "display_data"
    }
   ],
   "source": [
    "# Add the linear regression equation and line to plot\n",
    "x_values = FL_total_disaster\n",
    "y_values = FL_HPI\n",
    "correlation = st.pearsonr(FL_total_disaster, FL_HPI)\n",
    "(slope, intercept, rvalue, pvalue, stderr) = linregress(x_values, y_values)\n",
    "regress_values = x_values * slope + intercept\n",
    "line_eq = \"y = \" + str(round(slope,2)) + \"x + \" + str(round(intercept,2))\n",
    "plt.scatter(x_values,y_values)\n",
    "plt.plot(x_values,regress_values,\"r-\")\n",
    "plt.annotate(line_eq,(80,250),fontsize=15,color=\"red\")\n",
    "plt.xlabel('Total Disaster (SUM)')\n",
    "plt.ylabel('HPI')\n",
    "print(f\"The r-squared is: {rvalue**2}\")\n",
    "plt.show()"
   ]
  },
  {
   "cell_type": "markdown",
   "metadata": {},
   "source": [
    "# Uemployment vs. HPI"
   ]
  },
  {
   "cell_type": "code",
   "execution_count": 63,
   "metadata": {},
   "outputs": [
    {
     "name": "stdout",
     "output_type": "stream",
     "text": [
      "The correlation between both factors is -0.18\n"
     ]
    },
    {
     "data": {
      "image/png": "[encoded data removed]",
      "text/plain": [
       "<Figure size 432x288 with 1 Axes>"
      ]
     },
     "metadata": {
      "needs_background": "light"
     },
     "output_type": "display_data"
    }
   ],
   "source": [
    "#correlation between Temperature vs Interest Rate\n",
    "FL_unemployment = FL_filter.iloc[:,4]\n",
    "correlation = st.pearsonr(FL_unemployment, FL_HPI)\n",
    "plt.scatter(FL_unemployment, FL_Interest)\n",
    "plt.xlabel('Unemployment Rate')\n",
    "plt.ylabel('HPI')\n",
    "print(f\"The correlation between both factors is {round(correlation[0],2)}\")\n",
    "plt.show()"
   ]
  },
  {
   "cell_type": "code",
   "execution_count": 65,
   "metadata": {},
   "outputs": [
    {
     "name": "stdout",
     "output_type": "stream",
     "text": [
      "The r-squared is: 0.033100934381023565\n"
     ]
    },
    {
     "data": {
      "image/png": "[encoded data removed]",
      "text/plain": [
       "<Figure size 432x288 with 1 Axes>"
      ]
     },
     "metadata": {
      "needs_background": "light"
     },
     "output_type": "display_data"
    }
   ],
   "source": [
    "# Add the linear regression equation and line to plot\n",
    "x_values = FL_unemployment\n",
    "y_values = FL_HPI\n",
    "correlation = st.pearsonr(FL_unemployment, FL_HPI)\n",
    "(slope, intercept, rvalue, pvalue, stderr) = linregress(x_values, y_values)\n",
    "regress_values = x_values * slope + intercept\n",
    "line_eq = \"y = \" + str(round(slope,2)) + \"x + \" + str(round(intercept,2))\n",
    "plt.scatter(x_values,y_values)\n",
    "plt.plot(x_values,regress_values,\"r-\")\n",
    "plt.annotate(line_eq,(.06,300),fontsize=15,color=\"red\")\n",
    "plt.xlabel('Unemployment Rate')\n",
    "plt.ylabel('HPI')\n",
    "print(f\"The r-squared is: {rvalue**2}\")\n",
    "plt.show()"
   ]
  },
  {
   "cell_type": "markdown",
   "metadata": {},
   "source": [
    "# Medium Income vs. HPI "
   ]
  },
  {
   "cell_type": "code",
   "execution_count": 66,
   "metadata": {},
   "outputs": [
    {
     "name": "stdout",
     "output_type": "stream",
     "text": [
      "The correlation between both factors is 0.52\n"
     ]
    },
    {
     "data": {
      "image/png": "[encoded data removed]",
      "text/plain": [
       "<Figure size 432x288 with 1 Axes>"
      ]
     },
     "metadata": {
      "needs_background": "light"
     },
     "output_type": "display_data"
    }
   ],
   "source": [
    "#correlation between Temperature vs Interest Rate\n",
    "FL_medium_income = FL_filter.iloc[:,7]\n",
    "correlation = st.pearsonr(FL_medium_income, FL_HPI)\n",
    "plt.scatter(FL_medium_income, FL_Interest)\n",
    "plt.xlabel('Medium Income')\n",
    "plt.ylabel('HPI')\n",
    "print(f\"The correlation between both factors is {round(correlation[0],2)}\")\n",
    "plt.show()"
   ]
  },
  {
   "cell_type": "code",
   "execution_count": 70,
   "metadata": {},
   "outputs": [
    {
     "name": "stdout",
     "output_type": "stream",
     "text": [
      "The r-squared is: 0.2741243443614241\n"
     ]
    },
    {
     "data": {
      "image/png": "[encoded data removed]",
      "text/plain": [
       "<Figure size 432x288 with 1 Axes>"
      ]
     },
     "metadata": {
      "needs_background": "light"
     },
     "output_type": "display_data"
    }
   ],
   "source": [
    "# Add the linear regression equation and line to plot\n",
    "x_values = FL_medium_income\n",
    "y_values = FL_HPI\n",
    "correlation = st.pearsonr(FL_medium_income, FL_HPI)\n",
    "(slope, intercept, rvalue, pvalue, stderr) = linregress(x_values, y_values)\n",
    "regress_values = x_values * slope + intercept\n",
    "line_eq = \"y = \" + str(round(slope,2)) + \"x + \" + str(round(intercept,2))\n",
    "plt.scatter(x_values,y_values)\n",
    "plt.plot(x_values,regress_values,\"r-\")\n",
    "plt.annotate(line_eq,(55000,250),fontsize=10,color=\"red\")\n",
    "plt.xlabel('Medium Income')\n",
    "plt.ylabel('HPI')\n",
    "print(f\"The r-squared is: {rvalue**2}\")\n",
    "plt.show()"
   ]
  },
  {
   "cell_type": "markdown",
   "metadata": {},
   "source": [
    "# California Analysis"
   ]
  },
  {
   "cell_type": "code",
   "execution_count": 71,
   "metadata": {},
   "outputs": [
    {
     "data": {
      "text/html": [
       "<div>\n",
       "<style scoped>\n",
       "    .dataframe tbody tr th:only-of-type {\n",
       "        vertical-align: middle;\n",
       "    }\n",
       "\n",
       "    .dataframe tbody tr th {\n",
       "        vertical-align: top;\n",
       "    }\n",
       "\n",
       "    .dataframe thead th {\n",
       "        text-align: right;\n",
       "    }\n",
       "</style>\n",
       "<table border=\"1\" class=\"dataframe\">\n",
       "  <thead>\n",
       "    <tr style=\"text-align: right;\">\n",
       "      <th></th>\n",
       "      <th>State</th>\n",
       "      <th>Year</th>\n",
       "      <th>Total_Disaster</th>\n",
       "      <th>InterestRate</th>\n",
       "      <th>Unemployment Rate</th>\n",
       "      <th>HomeOwnRate</th>\n",
       "      <th>Population</th>\n",
       "      <th>MediumIncome</th>\n",
       "      <th>HPI</th>\n",
       "      <th>Average Temperature (F)</th>\n",
       "      <th>Average Temperature (C)</th>\n",
       "    </tr>\n",
       "  </thead>\n",
       "  <tbody>\n",
       "    <tr>\n",
       "      <th>0</th>\n",
       "      <td>CA</td>\n",
       "      <td>1996</td>\n",
       "      <td>11.0</td>\n",
       "      <td>0.078</td>\n",
       "      <td>0.073</td>\n",
       "      <td>0.550</td>\n",
       "      <td>31780829</td>\n",
       "      <td>63176</td>\n",
       "      <td>330.618545</td>\n",
       "      <td>59.42</td>\n",
       "      <td>15.00</td>\n",
       "    </tr>\n",
       "    <tr>\n",
       "      <th>1</th>\n",
       "      <td>CA</td>\n",
       "      <td>1997</td>\n",
       "      <td>20.0</td>\n",
       "      <td>0.076</td>\n",
       "      <td>0.064</td>\n",
       "      <td>0.557</td>\n",
       "      <td>32217708</td>\n",
       "      <td>63245</td>\n",
       "      <td>338.655091</td>\n",
       "      <td>58.92</td>\n",
       "      <td>14.58</td>\n",
       "    </tr>\n",
       "    <tr>\n",
       "      <th>2</th>\n",
       "      <td>CA</td>\n",
       "      <td>1998</td>\n",
       "      <td>15.0</td>\n",
       "      <td>0.069</td>\n",
       "      <td>0.059</td>\n",
       "      <td>0.560</td>\n",
       "      <td>32682794</td>\n",
       "      <td>64349</td>\n",
       "      <td>355.755536</td>\n",
       "      <td>56.67</td>\n",
       "      <td>13.50</td>\n",
       "    </tr>\n",
       "    <tr>\n",
       "      <th>3</th>\n",
       "      <td>CA</td>\n",
       "      <td>1999</td>\n",
       "      <td>85.0</td>\n",
       "      <td>0.074</td>\n",
       "      <td>0.052</td>\n",
       "      <td>0.557</td>\n",
       "      <td>33145121</td>\n",
       "      <td>67156</td>\n",
       "      <td>376.622500</td>\n",
       "      <td>57.75</td>\n",
       "      <td>14.25</td>\n",
       "    </tr>\n",
       "    <tr>\n",
       "      <th>4</th>\n",
       "      <td>CA</td>\n",
       "      <td>2000</td>\n",
       "      <td>32.0</td>\n",
       "      <td>0.081</td>\n",
       "      <td>0.049</td>\n",
       "      <td>0.571</td>\n",
       "      <td>33987977</td>\n",
       "      <td>69696</td>\n",
       "      <td>439.172182</td>\n",
       "      <td>58.58</td>\n",
       "      <td>14.42</td>\n",
       "    </tr>\n",
       "    <tr>\n",
       "      <th>5</th>\n",
       "      <td>CA</td>\n",
       "      <td>2001</td>\n",
       "      <td>81.0</td>\n",
       "      <td>0.070</td>\n",
       "      <td>0.054</td>\n",
       "      <td>0.582</td>\n",
       "      <td>34479458</td>\n",
       "      <td>68413</td>\n",
       "      <td>486.225714</td>\n",
       "      <td>58.75</td>\n",
       "      <td>14.58</td>\n",
       "    </tr>\n",
       "    <tr>\n",
       "      <th>6</th>\n",
       "      <td>CA</td>\n",
       "      <td>2002</td>\n",
       "      <td>124.0</td>\n",
       "      <td>0.065</td>\n",
       "      <td>0.067</td>\n",
       "      <td>0.577</td>\n",
       "      <td>34871843</td>\n",
       "      <td>67600</td>\n",
       "      <td>525.130526</td>\n",
       "      <td>58.58</td>\n",
       "      <td>14.50</td>\n",
       "    </tr>\n",
       "    <tr>\n",
       "      <th>7</th>\n",
       "      <td>CA</td>\n",
       "      <td>2003</td>\n",
       "      <td>130.0</td>\n",
       "      <td>0.058</td>\n",
       "      <td>0.068</td>\n",
       "      <td>0.589</td>\n",
       "      <td>35253159</td>\n",
       "      <td>68695</td>\n",
       "      <td>564.373621</td>\n",
       "      <td>59.33</td>\n",
       "      <td>14.83</td>\n",
       "    </tr>\n",
       "    <tr>\n",
       "      <th>8</th>\n",
       "      <td>CA</td>\n",
       "      <td>2004</td>\n",
       "      <td>63.0</td>\n",
       "      <td>0.058</td>\n",
       "      <td>0.062</td>\n",
       "      <td>0.597</td>\n",
       "      <td>35574576</td>\n",
       "      <td>66782</td>\n",
       "      <td>666.211724</td>\n",
       "      <td>58.58</td>\n",
       "      <td>14.58</td>\n",
       "    </tr>\n",
       "    <tr>\n",
       "      <th>9</th>\n",
       "      <td>CA</td>\n",
       "      <td>2005</td>\n",
       "      <td>35.0</td>\n",
       "      <td>0.059</td>\n",
       "      <td>0.054</td>\n",
       "      <td>0.597</td>\n",
       "      <td>35827943</td>\n",
       "      <td>67918</td>\n",
       "      <td>824.612931</td>\n",
       "      <td>58.25</td>\n",
       "      <td>14.50</td>\n",
       "    </tr>\n",
       "    <tr>\n",
       "      <th>10</th>\n",
       "      <td>CA</td>\n",
       "      <td>2006</td>\n",
       "      <td>75.0</td>\n",
       "      <td>0.064</td>\n",
       "      <td>0.049</td>\n",
       "      <td>0.602</td>\n",
       "      <td>36021202</td>\n",
       "      <td>70316</td>\n",
       "      <td>896.773276</td>\n",
       "      <td>58.50</td>\n",
       "      <td>14.42</td>\n",
       "    </tr>\n",
       "    <tr>\n",
       "      <th>11</th>\n",
       "      <td>CA</td>\n",
       "      <td>2007</td>\n",
       "      <td>66.0</td>\n",
       "      <td>0.063</td>\n",
       "      <td>0.054</td>\n",
       "      <td>0.583</td>\n",
       "      <td>36250311</td>\n",
       "      <td>68890</td>\n",
       "      <td>857.060690</td>\n",
       "      <td>58.67</td>\n",
       "      <td>14.50</td>\n",
       "    </tr>\n",
       "    <tr>\n",
       "      <th>12</th>\n",
       "      <td>CA</td>\n",
       "      <td>2008</td>\n",
       "      <td>67.0</td>\n",
       "      <td>0.060</td>\n",
       "      <td>0.073</td>\n",
       "      <td>0.575</td>\n",
       "      <td>36604337</td>\n",
       "      <td>67865</td>\n",
       "      <td>711.361724</td>\n",
       "      <td>58.75</td>\n",
       "      <td>14.50</td>\n",
       "    </tr>\n",
       "    <tr>\n",
       "      <th>13</th>\n",
       "      <td>CA</td>\n",
       "      <td>2009</td>\n",
       "      <td>40.0</td>\n",
       "      <td>0.050</td>\n",
       "      <td>0.112</td>\n",
       "      <td>0.570</td>\n",
       "      <td>36961229</td>\n",
       "      <td>67051</td>\n",
       "      <td>604.222414</td>\n",
       "      <td>58.33</td>\n",
       "      <td>14.50</td>\n",
       "    </tr>\n",
       "    <tr>\n",
       "      <th>14</th>\n",
       "      <td>CA</td>\n",
       "      <td>2010</td>\n",
       "      <td>24.0</td>\n",
       "      <td>0.047</td>\n",
       "      <td>0.122</td>\n",
       "      <td>0.561</td>\n",
       "      <td>37319502</td>\n",
       "      <td>63788</td>\n",
       "      <td>566.889655</td>\n",
       "      <td>57.50</td>\n",
       "      <td>13.83</td>\n",
       "    </tr>\n",
       "    <tr>\n",
       "      <th>15</th>\n",
       "      <td>CA</td>\n",
       "      <td>2011</td>\n",
       "      <td>21.0</td>\n",
       "      <td>0.045</td>\n",
       "      <td>0.117</td>\n",
       "      <td>0.553</td>\n",
       "      <td>37638369</td>\n",
       "      <td>60795</td>\n",
       "      <td>527.926379</td>\n",
       "      <td>57.25</td>\n",
       "      <td>13.92</td>\n",
       "    </tr>\n",
       "    <tr>\n",
       "      <th>16</th>\n",
       "      <td>CA</td>\n",
       "      <td>2012</td>\n",
       "      <td>22.0</td>\n",
       "      <td>0.037</td>\n",
       "      <td>0.104</td>\n",
       "      <td>0.545</td>\n",
       "      <td>37948800</td>\n",
       "      <td>63609</td>\n",
       "      <td>523.867069</td>\n",
       "      <td>59.00</td>\n",
       "      <td>14.75</td>\n",
       "    </tr>\n",
       "    <tr>\n",
       "      <th>17</th>\n",
       "      <td>CA</td>\n",
       "      <td>2013</td>\n",
       "      <td>42.0</td>\n",
       "      <td>0.040</td>\n",
       "      <td>0.089</td>\n",
       "      <td>0.543</td>\n",
       "      <td>38260787</td>\n",
       "      <td>66829</td>\n",
       "      <td>579.972414</td>\n",
       "      <td>46.50</td>\n",
       "      <td>12.17</td>\n",
       "    </tr>\n",
       "  </tbody>\n",
       "</table>\n",
       "</div>"
      ],
      "text/plain": [
       "   State  Year  Total_Disaster  InterestRate  Unemployment Rate   HomeOwnRate  \\\n",
       "0     CA  1996            11.0         0.078               0.073        0.550   \n",
       "1     CA  1997            20.0         0.076               0.064        0.557   \n",
       "2     CA  1998            15.0         0.069               0.059        0.560   \n",
       "3     CA  1999            85.0         0.074               0.052        0.557   \n",
       "4     CA  2000            32.0         0.081               0.049        0.571   \n",
       "5     CA  2001            81.0         0.070               0.054        0.582   \n",
       "6     CA  2002           124.0         0.065               0.067        0.577   \n",
       "7     CA  2003           130.0         0.058               0.068        0.589   \n",
       "8     CA  2004            63.0         0.058               0.062        0.597   \n",
       "9     CA  2005            35.0         0.059               0.054        0.597   \n",
       "10    CA  2006            75.0         0.064               0.049        0.602   \n",
       "11    CA  2007            66.0         0.063               0.054        0.583   \n",
       "12    CA  2008            67.0         0.060               0.073        0.575   \n",
       "13    CA  2009            40.0         0.050               0.112        0.570   \n",
       "14    CA  2010            24.0         0.047               0.122        0.561   \n",
       "15    CA  2011            21.0         0.045               0.117        0.553   \n",
       "16    CA  2012            22.0         0.037               0.104        0.545   \n",
       "17    CA  2013            42.0         0.040               0.089        0.543   \n",
       "\n",
       "    Population  MediumIncome         HPI  Average Temperature (F)  \\\n",
       "0     31780829         63176  330.618545                    59.42   \n",
       "1     32217708         63245  338.655091                    58.92   \n",
       "2     32682794         64349  355.755536                    56.67   \n",
       "3     33145121         67156  376.622500                    57.75   \n",
       "4     33987977         69696  439.172182                    58.58   \n",
       "5     34479458         68413  486.225714                    58.75   \n",
       "6     34871843         67600  525.130526                    58.58   \n",
       "7     35253159         68695  564.373621                    59.33   \n",
       "8     35574576         66782  666.211724                    58.58   \n",
       "9     35827943         67918  824.612931                    58.25   \n",
       "10    36021202         70316  896.773276                    58.50   \n",
       "11    36250311         68890  857.060690                    58.67   \n",
       "12    36604337         67865  711.361724                    58.75   \n",
       "13    36961229         67051  604.222414                    58.33   \n",
       "14    37319502         63788  566.889655                    57.50   \n",
       "15    37638369         60795  527.926379                    57.25   \n",
       "16    37948800         63609  523.867069                    59.00   \n",
       "17    38260787         66829  579.972414                    46.50   \n",
       "\n",
       "    Average Temperature (C)  \n",
       "0                     15.00  \n",
       "1                     14.58  \n",
       "2                     13.50  \n",
       "3                     14.25  \n",
       "4                     14.42  \n",
       "5                     14.58  \n",
       "6                     14.50  \n",
       "7                     14.83  \n",
       "8                     14.58  \n",
       "9                     14.50  \n",
       "10                    14.42  \n",
       "11                    14.50  \n",
       "12                    14.50  \n",
       "13                    14.50  \n",
       "14                    13.83  \n",
       "15                    13.92  \n",
       "16                    14.75  \n",
       "17                    12.17  "
      ]
     },
     "execution_count": 71,
     "metadata": {},
     "output_type": "execute_result"
    }
   ],
   "source": [
    "#create a new IL dataset to easily reference \n",
    "CA_df = df[\"State\"] == 'CA'\n",
    "\n",
    "CA_filter = df[CA_df]\n",
    "\n",
    "CA_filter"
   ]
  },
  {
   "cell_type": "markdown",
   "metadata": {},
   "source": [
    "# Average Temperature vs HPI"
   ]
  },
  {
   "cell_type": "code",
   "execution_count": 72,
   "metadata": {},
   "outputs": [
    {
     "name": "stdout",
     "output_type": "stream",
     "text": [
      "The correlation between both factors is 0.01\n"
     ]
    },
    {
     "data": {
      "image/png": "[encoded data removed]",
      "text/plain": [
       "<Figure size 432x288 with 1 Axes>"
      ]
     },
     "metadata": {
      "needs_background": "light"
     },
     "output_type": "display_data"
    }
   ],
   "source": [
    "CA_temp = CA_filter.iloc[:,9]\n",
    "CA_HPI = CA_filter.iloc[:,8]\n",
    "correlation = st.pearsonr(CA_temp, CA_HPI)\n",
    "plt.scatter(CA_temp, CA_HPI)\n",
    "plt.xlabel('Average Temperature (F)')\n",
    "plt.ylabel('HPI')\n",
    "print(f\"The correlation between both factors is {round(correlation[0],2)}\")\n",
    "plt.show()"
   ]
  },
  {
   "cell_type": "code",
   "execution_count": 74,
   "metadata": {},
   "outputs": [
    {
     "name": "stdout",
     "output_type": "stream",
     "text": [
      "The r-squared is: 3.61779348430128e-05\n"
     ]
    },
    {
     "data": {
      "image/png": "[encoded data removed]",
      "text/plain": [
       "<Figure size 432x288 with 1 Axes>"
      ]
     },
     "metadata": {
      "needs_background": "light"
     },
     "output_type": "display_data"
    }
   ],
   "source": [
    "# Add the linear regression equation and line to plot\n",
    "\n",
    "x_values = CA_temp\n",
    "y_values = CA_HPI\n",
    "correlation = st.pearsonr(CA_temp, CA_HPI)\n",
    "(slope, intercept, rvalue, pvalue, stderr) = linregress(x_values, y_values)\n",
    "regress_values = x_values * slope + intercept\n",
    "line_eq = \"y = \" + str(round(slope,2)) + \"x + \" + str(round(intercept,2))\n",
    "plt.scatter(x_values,y_values)\n",
    "plt.plot(x_values,regress_values,\"r-\")\n",
    "plt.annotate(line_eq,(50,500),fontsize=15,color=\"red\")\n",
    "plt.xlabel('Average Temperature (F)')\n",
    "plt.ylabel('HPI')\n",
    "print(f\"The r-squared is: {rvalue**2}\")\n",
    "plt.show()"
   ]
  },
  {
   "cell_type": "markdown",
   "metadata": {},
   "source": [
    "# Average Temperature vs. Home Owner Rate"
   ]
  },
  {
   "cell_type": "code",
   "execution_count": 75,
   "metadata": {},
   "outputs": [
    {
     "name": "stdout",
     "output_type": "stream",
     "text": [
      "The correlation between both factors is 0.41\n"
     ]
    },
    {
     "data": {
      "image/png": "[encoded data removed]",
      "text/plain": [
       "<Figure size 432x288 with 1 Axes>"
      ]
     },
     "metadata": {
      "needs_background": "light"
     },
     "output_type": "display_data"
    }
   ],
   "source": [
    "#correlation between Temperature vs Home Owner Rate\n",
    "\n",
    "CA_HomeOwnerRate = CA_filter.iloc[:,5]\n",
    "correlation = st.pearsonr(CA_temp, CA_HomeOwnerRate)\n",
    "plt.scatter(CA_temp, CA_HomeOwnerRate)\n",
    "plt.xlabel('Average Temperature (F)')\n",
    "plt.ylabel('Home Owner Rate')\n",
    "print(f\"The correlation between both factors is {round(correlation[0],2)}\")\n",
    "plt.show()"
   ]
  },
  {
   "cell_type": "code",
   "execution_count": 77,
   "metadata": {},
   "outputs": [
    {
     "name": "stdout",
     "output_type": "stream",
     "text": [
      "The r-squared is: 0.1671279929804748\n"
     ]
    },
    {
     "data": {
      "image/png": "[encoded data removed]",
      "text/plain": [
       "<Figure size 432x288 with 1 Axes>"
      ]
     },
     "metadata": {
      "needs_background": "light"
     },
     "output_type": "display_data"
    }
   ],
   "source": [
    "# Add the linear regression equation and line to plot\n",
    "\n",
    "x_values = CA_temp\n",
    "y_values = CA_HomeOwnerRate\n",
    "correlation = st.pearsonr(CA_temp, CA_HomeOwnerRate)\n",
    "(slope, intercept, rvalue, pvalue, stderr) = linregress(x_values, y_values)\n",
    "regress_values = x_values * slope + intercept\n",
    "line_eq = \"y = \" + str(round(slope,2)) + \"x + \" + str(round(intercept,2))\n",
    "plt.scatter(x_values,y_values)\n",
    "plt.plot(x_values,regress_values,\"r-\")\n",
    "plt.annotate(line_eq,(52,.55),fontsize=15,color=\"red\")\n",
    "plt.xlabel('Average Temperature (F)')\n",
    "plt.ylabel('Home Owner Rate')\n",
    "print(f\"The r-squared is: {rvalue**2}\")\n",
    "plt.show()"
   ]
  },
  {
   "cell_type": "markdown",
   "metadata": {},
   "source": [
    "# Average Temperature vs. Interest Rate"
   ]
  },
  {
   "cell_type": "code",
   "execution_count": 78,
   "metadata": {},
   "outputs": [
    {
     "name": "stdout",
     "output_type": "stream",
     "text": [
      "The correlation between both factors is 0.43\n"
     ]
    },
    {
     "data": {
      "image/png": "[encoded data removed]",
      "text/plain": [
       "<Figure size 432x288 with 1 Axes>"
      ]
     },
     "metadata": {
      "needs_background": "light"
     },
     "output_type": "display_data"
    }
   ],
   "source": [
    "#correlation between Temperature vs Interest Rate\n",
    "CA_Interest = CA_filter.iloc[:,3]\n",
    "correlation = st.pearsonr(CA_temp, CA_Interest)\n",
    "plt.scatter(CA_temp, CA_HomeOwnerRate)\n",
    "plt.xlabel('Average Temperature (F)')\n",
    "plt.ylabel('Interest Rate')\n",
    "print(f\"The correlation between both factors is {round(correlation[0],2)}\")\n",
    "plt.show()"
   ]
  },
  {
   "cell_type": "code",
   "execution_count": 80,
   "metadata": {},
   "outputs": [
    {
     "name": "stdout",
     "output_type": "stream",
     "text": [
      "The r-squared is: 0.18173746665865517\n"
     ]
    },
    {
     "data": {
      "image/png": "[encoded data removed]",
      "text/plain": [
       "<Figure size 432x288 with 1 Axes>"
      ]
     },
     "metadata": {
      "needs_background": "light"
     },
     "output_type": "display_data"
    }
   ],
   "source": [
    "# Add the linear regression equation and line to plot\n",
    "\n",
    "x_values = CA_temp\n",
    "y_values = CA_Interest\n",
    "correlation = st.pearsonr(CA_temp, CA_Interest)\n",
    "(slope, intercept, rvalue, pvalue, stderr) = linregress(x_values, y_values)\n",
    "regress_values = x_values * slope + intercept\n",
    "line_eq = \"y = \" + str(round(slope,2)) + \"x + \" + str(round(intercept,2))\n",
    "plt.scatter(x_values,y_values)\n",
    "plt.plot(x_values,regress_values,\"r-\")\n",
    "plt.annotate(line_eq,(50,.06),fontsize=15,color=\"red\")\n",
    "plt.xlabel('Average Temperature (F)')\n",
    "plt.ylabel('Interest Rate')\n",
    "print(f\"The r-squared is: {rvalue**2}\")\n",
    "plt.show()"
   ]
  },
  {
   "cell_type": "markdown",
   "metadata": {},
   "source": [
    "# HPI vs Interest Rate"
   ]
  },
  {
   "cell_type": "code",
   "execution_count": 81,
   "metadata": {},
   "outputs": [
    {
     "name": "stdout",
     "output_type": "stream",
     "text": [
      "The correlation between both factors is -0.35\n"
     ]
    },
    {
     "data": {
      "image/png": "[encoded data removed]",
      "text/plain": [
       "<Figure size 432x288 with 1 Axes>"
      ]
     },
     "metadata": {
      "needs_background": "light"
     },
     "output_type": "display_data"
    }
   ],
   "source": [
    "#correlation between Temperature vs Interest Rate\n",
    "correlation = st.pearsonr(CA_HPI, CA_Interest)\n",
    "plt.scatter(CA_HPI, CA_Interest)\n",
    "plt.xlabel('HPI')\n",
    "plt.ylabel('Interest Rate')\n",
    "print(f\"The correlation between both factors is {round(correlation[0],2)}\")\n",
    "plt.show()"
   ]
  },
  {
   "cell_type": "code",
   "execution_count": 82,
   "metadata": {},
   "outputs": [
    {
     "name": "stdout",
     "output_type": "stream",
     "text": [
      "The r-squared is: 0.12433491584848791\n"
     ]
    },
    {
     "data": {
      "image/png": "[encoded data removed]",
      "text/plain": [
       "<Figure size 432x288 with 1 Axes>"
      ]
     },
     "metadata": {
      "needs_background": "light"
     },
     "output_type": "display_data"
    }
   ],
   "source": [
    "# Add the linear regression equation and line to plot\n",
    "x_values = CA_HPI\n",
    "y_values = CA_Interest\n",
    "correlation = st.pearsonr(CA_HPI, CA_Interest)\n",
    "(slope, intercept, rvalue, pvalue, stderr) = linregress(x_values, y_values)\n",
    "regress_values = x_values * slope + intercept\n",
    "line_eq = \"y = \" + str(round(slope,2)) + \"x + \" + str(round(intercept,2))\n",
    "plt.scatter(x_values,y_values)\n",
    "plt.plot(x_values,regress_values,\"r-\")\n",
    "plt.annotate(line_eq,(310,.05),fontsize=15,color=\"red\")\n",
    "plt.xlabel('HPI')\n",
    "plt.ylabel('Interest Rate')\n",
    "print(f\"The r-squared is: {rvalue**2}\")\n",
    "plt.show()"
   ]
  },
  {
   "cell_type": "markdown",
   "metadata": {},
   "source": [
    "# Total Disaster vs. Interest Rate"
   ]
  },
  {
   "cell_type": "code",
   "execution_count": 83,
   "metadata": {},
   "outputs": [
    {
     "name": "stdout",
     "output_type": "stream",
     "text": [
      "The correlation between both factors is 0.11\n"
     ]
    },
    {
     "data": {
      "image/png": "[encoded data removed]",
      "text/plain": [
       "<Figure size 432x288 with 1 Axes>"
      ]
     },
     "metadata": {
      "needs_background": "light"
     },
     "output_type": "display_data"
    }
   ],
   "source": [
    "#correlation between Temperature vs Interest Rate\n",
    "CA_total_disaster = CA_filter.iloc[:,2]\n",
    "correlation = st.pearsonr(CA_total_disaster, CA_Interest)\n",
    "plt.scatter(CA_total_disaster, CA_Interest)\n",
    "plt.xlabel('Total Disaster (SUM)')\n",
    "plt.ylabel('Interest Rate')\n",
    "print(f\"The correlation between both factors is {round(correlation[0],2)}\")\n",
    "plt.show()"
   ]
  },
  {
   "cell_type": "code",
   "execution_count": 85,
   "metadata": {},
   "outputs": [
    {
     "name": "stdout",
     "output_type": "stream",
     "text": [
      "The r-squared is: 0.07046247924395144\n"
     ]
    },
    {
     "data": {
      "image/png": "[encoded data removed]",
      "text/plain": [
       "<Figure size 432x288 with 1 Axes>"
      ]
     },
     "metadata": {
      "needs_background": "light"
     },
     "output_type": "display_data"
    }
   ],
   "source": [
    "# Add the linear regression equation and line to plot\n",
    "x_values = CA_total_disaster\n",
    "y_values = CA_HPI\n",
    "correlation = st.pearsonr(CA_total_disaster, CA_HPI)\n",
    "(slope, intercept, rvalue, pvalue, stderr) = linregress(x_values, y_values)\n",
    "regress_values = x_values * slope + intercept\n",
    "line_eq = \"y = \" + str(round(slope,2)) + \"x + \" + str(round(intercept,2))\n",
    "plt.scatter(x_values,y_values)\n",
    "plt.plot(x_values,regress_values,\"r-\")\n",
    "plt.annotate(line_eq,(80,700),fontsize=15,color=\"red\")\n",
    "plt.xlabel('Total Disaster (SUM)')\n",
    "plt.ylabel('HPI')\n",
    "print(f\"The r-squared is: {rvalue**2}\")\n",
    "plt.show()"
   ]
  },
  {
   "cell_type": "markdown",
   "metadata": {},
   "source": [
    "# Total Disaster vs. HPI"
   ]
  },
  {
   "cell_type": "code",
   "execution_count": 86,
   "metadata": {},
   "outputs": [
    {
     "name": "stdout",
     "output_type": "stream",
     "text": [
      "The correlation between both factors is 0.27\n"
     ]
    },
    {
     "data": {
      "image/png": "[encoded data removed]",
      "text/plain": [
       "<Figure size 432x288 with 1 Axes>"
      ]
     },
     "metadata": {
      "needs_background": "light"
     },
     "output_type": "display_data"
    }
   ],
   "source": [
    "#correlation between Temperature vs Interest Rate\n",
    "correlation = st.pearsonr(CA_total_disaster, CA_HPI)\n",
    "plt.scatter(CA_total_disaster, CA_Interest)\n",
    "plt.xlabel('Total Disaster (SUM)')\n",
    "plt.ylabel('HPI')\n",
    "print(f\"The correlation between both factors is {round(correlation[0],2)}\")\n",
    "plt.show()"
   ]
  },
  {
   "cell_type": "code",
   "execution_count": 88,
   "metadata": {},
   "outputs": [
    {
     "name": "stdout",
     "output_type": "stream",
     "text": [
      "The r-squared is: 0.07046247924395144\n"
     ]
    },
    {
     "data": {
      "image/png": "[encoded data removed]",
      "text/plain": [
       "<Figure size 432x288 with 1 Axes>"
      ]
     },
     "metadata": {
      "needs_background": "light"
     },
     "output_type": "display_data"
    }
   ],
   "source": [
    "# Add the linear regression equation and line to plot\n",
    "x_values = CA_total_disaster\n",
    "y_values = CA_HPI\n",
    "correlation = st.pearsonr(CA_total_disaster, CA_HPI)\n",
    "(slope, intercept, rvalue, pvalue, stderr) = linregress(x_values, y_values)\n",
    "regress_values = x_values * slope + intercept\n",
    "line_eq = \"y = \" + str(round(slope,2)) + \"x + \" + str(round(intercept,2))\n",
    "plt.scatter(x_values,y_values)\n",
    "plt.plot(x_values,regress_values,\"r-\")\n",
    "plt.annotate(line_eq,(80,700),fontsize=15,color=\"red\")\n",
    "plt.xlabel('Total Disaster (SUM)')\n",
    "plt.ylabel('HPI')\n",
    "print(f\"The r-squared is: {rvalue**2}\")\n",
    "plt.show()"
   ]
  },
  {
   "cell_type": "markdown",
   "metadata": {},
   "source": [
    "# Uemployment vs. HPI"
   ]
  },
  {
   "cell_type": "code",
   "execution_count": 89,
   "metadata": {},
   "outputs": [
    {
     "name": "stdout",
     "output_type": "stream",
     "text": [
      "The correlation between both factors is -0.1\n"
     ]
    },
    {
     "data": {
      "image/png": "[encoded data removed]",
      "text/plain": [
       "<Figure size 432x288 with 1 Axes>"
      ]
     },
     "metadata": {
      "needs_background": "light"
     },
     "output_type": "display_data"
    }
   ],
   "source": [
    "#correlation between Temperature vs Interest Rate\n",
    "CA_unemployment = CA_filter.iloc[:,4]\n",
    "correlation = st.pearsonr(CA_unemployment, CA_HPI)\n",
    "plt.scatter(CA_unemployment, CA_Interest)\n",
    "plt.xlabel('Unemployment Rate')\n",
    "plt.ylabel('HPI')\n",
    "print(f\"The correlation between both factors is {round(correlation[0],2)}\")\n",
    "plt.show()"
   ]
  },
  {
   "cell_type": "code",
   "execution_count": 93,
   "metadata": {},
   "outputs": [
    {
     "name": "stdout",
     "output_type": "stream",
     "text": [
      "The r-squared is: 0.009238455248970472\n"
     ]
    },
    {
     "data": {
      "image/png": "[encoded data removed]",
      "text/plain": [
       "<Figure size 432x288 with 1 Axes>"
      ]
     },
     "metadata": {
      "needs_background": "light"
     },
     "output_type": "display_data"
    }
   ],
   "source": [
    "# Add the linear regression equation and line to plot\n",
    "x_values = CA_unemployment\n",
    "y_values = CA_HPI\n",
    "correlation = st.pearsonr(CA_unemployment, CA_HPI)\n",
    "(slope, intercept, rvalue, pvalue, stderr) = linregress(x_values, y_values)\n",
    "regress_values = x_values * slope + intercept\n",
    "line_eq = \"y = \" + str(round(slope,2)) + \"x + \" + str(round(intercept,2))\n",
    "plt.scatter(x_values,y_values)\n",
    "plt.plot(x_values,regress_values,\"r-\")\n",
    "plt.annotate(line_eq,(.08,450),fontsize=15,color=\"red\")\n",
    "plt.xlabel('Unemployment Rate')\n",
    "plt.ylabel('HPI')\n",
    "print(f\"The r-squared is: {rvalue**2}\")\n",
    "plt.show()"
   ]
  },
  {
   "cell_type": "markdown",
   "metadata": {},
   "source": [
    "# Medium Income vs. HPI "
   ]
  },
  {
   "cell_type": "code",
   "execution_count": 94,
   "metadata": {},
   "outputs": [
    {
     "name": "stdout",
     "output_type": "stream",
     "text": [
      "The correlation between both factors is 0.53\n"
     ]
    },
    {
     "data": {
      "image/png": "[encoded data removed]",
      "text/plain": [
       "<Figure size 432x288 with 1 Axes>"
      ]
     },
     "metadata": {
      "needs_background": "light"
     },
     "output_type": "display_data"
    }
   ],
   "source": [
    "#correlation between Temperature vs Interest Rate\n",
    "CA_medium_income = CA_filter.iloc[:,7]\n",
    "correlation = st.pearsonr(CA_medium_income, CA_HPI)\n",
    "plt.scatter(CA_medium_income, CA_Interest)\n",
    "plt.xlabel('Medium Income')\n",
    "plt.ylabel('HPI')\n",
    "print(f\"The correlation between both factors is {round(correlation[0],2)}\")\n",
    "plt.show()"
   ]
  },
  {
   "cell_type": "code",
   "execution_count": 99,
   "metadata": {},
   "outputs": [
    {
     "name": "stdout",
     "output_type": "stream",
     "text": [
      "The r-squared is: 0.2845446494961477\n"
     ]
    },
    {
     "data": {
      "image/png": "[encoded data removed]",
      "text/plain": [
       "<Figure size 432x288 with 1 Axes>"
      ]
     },
     "metadata": {
      "needs_background": "light"
     },
     "output_type": "display_data"
    }
   ],
   "source": [
    "# Add the linear regression equation and line to plot\n",
    "x_values = CA_medium_income\n",
    "y_values = CA_HPI\n",
    "correlation = st.pearsonr(CA_medium_income, CA_HPI)\n",
    "(slope, intercept, rvalue, pvalue, stderr) = linregress(x_values, y_values)\n",
    "regress_values = x_values * slope + intercept\n",
    "line_eq = \"y = \" + str(round(slope,2)) + \"x + \" + str(round(intercept,2))\n",
    "plt.scatter(x_values,y_values)\n",
    "plt.plot(x_values,regress_values,\"r-\")\n",
    "plt.annotate(line_eq,(64000,415),fontsize=15,color=\"red\")\n",
    "plt.xlabel('Medium Income')\n",
    "plt.ylabel('HPI')\n",
    "print(f\"The r-squared is: {rvalue**2}\")\n",
    "plt.show()"
   ]
  }
 ],
 "metadata": {
  "kernelspec": {
   "display_name": "Python 3",
   "language": "python",
   "name": "python3"
  },
  "language_info": {
   "codemirror_mode": {
    "name": "ipython",
    "version": 3
   },
   "file_extension": ".py",
   "mimetype": "text/x-python",
   "name": "python",
   "nbconvert_exporter": "python",
   "pygments_lexer": "ipython3",
   "version": "3.7.6"
  }
 },
 "nbformat": 4,
 "nbformat_minor": 4
}
