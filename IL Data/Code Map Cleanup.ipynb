{
 "cells": [
  {
   "cell_type": "code",
   "execution_count": 5,
   "metadata": {},
   "outputs": [],
   "source": [
    "import pandas as pd"
   ]
  },
  {
   "cell_type": "code",
   "execution_count": 7,
   "metadata": {},
   "outputs": [],
   "source": [
    "# SQLAlchemy\n",
    "from sqlalchemy import create_engine\n",
    "\n",
    "# Path to sqlite\n",
    "database_path = \"../IL Data/Code Map IL Unemployment.csv\"\n",
    "\n",
    "# Read database_path and store into Pandas data frame\n",
    "IL_data = pd.read_csv(database_path)"
   ]
  },
  {
   "cell_type": "code",
   "execution_count": 8,
   "metadata": {},
   "outputs": [
    {
     "name": "stdout",
     "output_type": "stream",
     "text": [
      "                            City State1 State2 State3        Code\n",
      "0                    Bloomington     IL    NaN    NaN  BLOO017URN\n",
      "1               Champaign-Urbana     IL    NaN    NaN  CHAM517URN\n",
      "2                      St. Louis     MO     IL    NaN      STLURN\n",
      "3       Chicago-Naperville-Elgin     IL     IN     WI  CHIC917URN\n",
      "4                       Danville     IL    NaN    NaN  DANV117URN\n",
      "5   Davenport-Moline-Rock Island     IA     IL    NaN  DAVE317URN\n",
      "6                        Decatur     IL    NaN    NaN  DECA517URN\n",
      "7                       Kankakee     IL    NaN    NaN  KANK117URN\n",
      "8                         Peoria     IL    NaN    NaN  PEOR917URN\n",
      "9                       Rockford     IL    NaN    NaN  ROCK417URN\n",
      "10                   Springfield     IL    NaN    NaN  SPRI117URN\n"
     ]
    }
   ],
   "source": [
    "print(IL_data)"
   ]
  },
  {
   "cell_type": "code",
   "execution_count": null,
   "metadata": {},
   "outputs": [],
   "source": []
  }
 ],
 "metadata": {
  "kernelspec": {
   "display_name": "Python 3",
   "language": "python",
   "name": "python3"
  },
  "language_info": {
   "codemirror_mode": {
    "name": "ipython",
    "version": 3
   },
   "file_extension": ".py",
   "mimetype": "text/x-python",
   "name": "python",
   "nbconvert_exporter": "python",
   "pygments_lexer": "ipython3",
   "version": "3.7.6"
  }
 },
 "nbformat": 4,
 "nbformat_minor": 4
}
