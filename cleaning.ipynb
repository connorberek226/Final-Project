{
 "cells": [
  {
   "cell_type": "code",
   "execution_count": null,
   "metadata": {},
   "outputs": [],
   "source": [
    "import pandas as pd\n",
    "from datetime import datetime, timedelta\n",
    "import numpy as np"
   ]
  },
  {
   "cell_type": "code",
   "execution_count": null,
   "metadata": {},
   "outputs": [],
   "source": [
    "weather_data = pd.read_csv(\"Resources/Weather Data/GlobalLandTemperaturesByState.csv\")\n",
    "\n",
    "weather_data.head()"
   ]
  },
  {
   "cell_type": "code",
   "execution_count": null,
   "metadata": {},
   "outputs": [],
   "source": [
    "# Drop unnecessary columns\n",
    "weather_data = weather_data.drop(weather_data[\"AverageTemperatureUncertainty\"])"
   ]
  },
  {
   "cell_type": "code",
   "execution_count": null,
   "metadata": {},
   "outputs": [],
   "source": [
    "# change the dt column to datetime\n",
    "weather_data[\"dt\"] = pd.to_datetime(weather_data[\"dt\"], format=\"%Y-%m-%d\")\n",
    "weather_data"
   ]
  },
  {
   "cell_type": "code",
   "execution_count": null,
   "metadata": {},
   "outputs": [],
   "source": [
    "#only selecting data from the United States and from 1900 and on\n",
    "us_weather = weather_data.loc[weather_data[\"Country\"] == \"United States\"]\n",
    "us_weather = us_weather.loc[us_weather[\"dt\"] > \"1900-01-01\"]\n",
    "\n",
    "\n",
    "#selecting only the data from california, florida, and illinois\n",
    "ca_weather = us_weather.loc[us_weather[\"State\"] == \"California\"].copy()\n",
    "fl_weather = us_weather.loc[us_weather[\"State\"] == \"Florida\"].copy()\n",
    "il_weather = us_weather.loc[us_weather[\"State\"] == \"Illinois\"].copy()"
   ]
  },
  {
   "cell_type": "code",
   "execution_count": null,
   "metadata": {},
   "outputs": [],
   "source": [
    "#concatenating the data together into one dataframe\n",
    "frames = [ca_weather, fl_weather, il_weather]\n",
    "\n",
    "state_weather = pd.concat(frames)"
   ]
  },
  {
   "cell_type": "code",
   "execution_count": null,
   "metadata": {},
   "outputs": [],
   "source": [
    "# adding a column for the Average Temperature in Degrees Fahrenheit\n",
    "state_weather[\"Average Temperature (F)\"] = (state_weather[\"AverageTemperature\"] * (9 / 5)) + 32\n",
    "\n",
    "# converting float type columns to integers in order to round to the nearest whole number\n",
    "state_weather['AverageTemperature'] = state_weather['AverageTemperature'].astype(np.int64)\n",
    "state_weather['Average Temperature (F)'] = state_weather['Average Temperature (F)'].astype(np.int64)"
   ]
  },
  {
   "cell_type": "code",
   "execution_count": null,
   "metadata": {},
   "outputs": [],
   "source": [
    "#Rename Column Headers\n",
    "state_weather.rename(columns={\"dt\": \"Date\", \"AverageTemperature\":\"Average Temperature (c)\"})"
   ]
  },
  {
   "cell_type": "code",
   "execution_count": null,
   "metadata": {},
   "outputs": [],
   "source": []
  }
 ],
 "metadata": {
  "kernelspec": {
   "display_name": "Python 3",
   "language": "python",
   "name": "python3"
  },
  "language_info": {
   "codemirror_mode": {
    "name": "ipython",
    "version": 3
   },
   "file_extension": ".py",
   "mimetype": "text/x-python",
   "name": "python",
   "nbconvert_exporter": "python",
   "pygments_lexer": "ipython3",
   "version": "3.7.6"
  }
 },
 "nbformat": 4,
 "nbformat_minor": 4
}
