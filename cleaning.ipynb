{
 "cells": [
  {
   "cell_type": "code",
   "execution_count": null,
   "metadata": {},
   "outputs": [],
   "source": [
    "import pandas as pd\n",
    "from datetime import datetime, timedelta\n",
    "import numpy as np"
   ]
  },
  {
   "cell_type": "code",
   "execution_count": null,
   "metadata": {},
   "outputs": [],
   "source": [
    "weather_data = pd.read_csv(\"Resources/Weather Data/GlobalLandTemperaturesByState.csv\")\n",
    "\n",
    "weather_data.head()"
   ]
  },
  {
   "cell_type": "code",
   "execution_count": null,
   "metadata": {},
   "outputs": [],
   "source": [
    "# Drop unnecessary columns\n",
    "weather_data = weather_data.drop([\"AverageTemperatureUncertainty\"], axis=1)"
   ]
  },
  {
   "cell_type": "code",
   "execution_count": null,
   "metadata": {},
   "outputs": [],
   "source": [
    "# change the dt column to datetime\n",
    "weather_data[\"dt\"] = pd.to_datetime(weather_data[\"dt\"], format=\"%Y-%M-%d\")\n",
    "weather_data[\"year\"] = weather_data[\"dt\"].dt.strftime(\"%Y\")\n",
    "\n",
    "weather_data"
   ]
  },
  {
   "cell_type": "code",
   "execution_count": null,
   "metadata": {},
   "outputs": [],
   "source": [
    "#only selecting data from the United States and from 1875 and on\n",
    "us_weather = weather_data.loc[weather_data[\"Country\"] == \"United States\"]\n",
    "us_weather = us_weather.loc[(us_weather[\"dt\"] > \"1875-01-01\") & (us_weather[\"dt\"] < \"2013-01-01\")]"
   ]
  },
  {
   "cell_type": "code",
   "execution_count": null,
   "metadata": {},
   "outputs": [],
   "source": [
    "#selecting only the data from california, florida, and illinois\n",
    "ca_weather = us_weather.loc[us_weather[\"State\"] == \"California\"].copy()\n",
    "fl_weather = us_weather.loc[us_weather[\"State\"] == \"Florida\"].copy()\n",
    "il_weather = us_weather.loc[us_weather[\"State\"] == \"Illinois\"].copy()\n",
    "\n",
    "ca_weather"
   ]
  },
  {
   "cell_type": "code",
   "execution_count": null,
   "metadata": {},
   "outputs": [],
   "source": [
    "#concatenating the data together into one dataframe\n",
    "frames = [ca_weather, fl_weather, il_weather]\n",
    "\n",
    "state_weather = pd.concat(frames)"
   ]
  },
  {
   "cell_type": "code",
   "execution_count": null,
   "metadata": {},
   "outputs": [],
   "source": [
    "# adding a column for the Average Temperature in Degrees Fahrenheit\n",
    "state_weather[\"Average Temperature (F)\"] = (state_weather[\"AverageTemperature\"] * (9 / 5)) + 32\n",
    "\n",
    "# converting float type columns to integers and rounding to the nearest whole number\n",
    "state_weather['AverageTemperature'] = state_weather['AverageTemperature'].astype(int)\n",
    "state_weather['Average Temperature (F)'] = state_weather['Average Temperature (F)'].astype(int)\n",
    "state_weather['year'] = state_weather['year'].astype(int)\n",
    "\n",
    "state_weather"
   ]
  },
  {
   "cell_type": "code",
   "execution_count": null,
   "metadata": {},
   "outputs": [],
   "source": [
    "#Rename Column Headers\n",
    "state_weather.rename(columns={\"dt\": \"Date\", \"AverageTemperature\":\"Average Temperature (C)\", \"year\": \"Year\"})\n",
    "state_weather.dtypes"
   ]
  },
  {
   "cell_type": "code",
   "execution_count": null,
   "metadata": {},
   "outputs": [],
   "source": [
    "# # Combine columns based on common values\n",
    "state_weather_year = state_weather.groupby([\"State\", \"year\"]).sum()\n",
    "\n",
    "state_weather_year = state_weather_year.rename(columns={\"AverageTemperature\": \"Total (C)\", \"Average Temperature (F)\": \"Total (F)\"})"
   ]
  },
  {
   "cell_type": "code",
   "execution_count": null,
   "metadata": {},
   "outputs": [],
   "source": [
    "state_weather_year[\"Average Temperature (F)\"] = (state_weather_year[\"Total (F)\"] / 12).round(decimals=2)\n",
    "state_weather_year[\"Average Temperature (C)\"] = (state_weather_year[\"Total (C)\"] / 12).round(decimals=2)\n",
    "\n",
    "state_weather_year"
   ]
  },
  {
   "cell_type": "code",
   "execution_count": null,
   "metadata": {},
   "outputs": [],
   "source": [
    "state_weather.to_csv(\"Resources/Cleaned Weather Data/StateWeatherCleaned.csv\")\n",
    "state_weather_year.to_csv(\"Resources/Cleaned Weather Data/StateWeatherByYearCleaned.csv\")"
   ]
  },
  {
   "cell_type": "code",
   "execution_count": null,
   "metadata": {},
   "outputs": [],
   "source": [
    "# adding a column for the Average Temperature in Degrees Fahrenheit to Cal, Illinois and Florida\n",
    "ca_weather[\"Average Temperature (F)\"] = (ca_weather[\"AverageTemperature\"] * (9 / 5)) + 32\n",
    "il_weather[\"Average Temperature (F)\"] = (il_weather[\"AverageTemperature\"] * (9 / 5)) + 32\n",
    "fl_weather[\"Average Temperature (F)\"] = (fl_weather[\"AverageTemperature\"] * (9 / 5)) + 32\n",
    "\n",
    "# converting float type columns to integers and rounding to the nearest whole number\n",
    "ca_weather['AverageTemperature'] = ca_weather['AverageTemperature'].astype(int)\n",
    "ca_weather['Average Temperature (F)'] = ca_weather['Average Temperature (F)'].astype(int)\n",
    "il_weather['AverageTemperature'] = il_weather['AverageTemperature'].astype(int)\n",
    "il_weather['Average Temperature (F)'] = il_weather['Average Temperature (F)'].astype(int)\n",
    "fl_weather['AverageTemperature'] = fl_weather['AverageTemperature'].astype(int)\n",
    "fl_weather['Average Temperature (F)'] = fl_weather['Average Temperature (F)'].astype(int)\n",
    "\n",
    "ca_weather.dtypes"
   ]
  },
  {
   "cell_type": "code",
   "execution_count": null,
   "metadata": {},
   "outputs": [],
   "source": [
    "#Rename Column Headers\n",
    "ca_weather = ca_weather.rename(columns={\"dt\": \"Date\", \"AverageTemperature\":\"Average Temperature (C)\"})\n",
    "il_weather = il_weather.rename(columns={\"dt\": \"Date\", \"AverageTemperature\":\"Average Temperature (C)\"})\n",
    "fl_weather = fl_weather.rename(columns={\"dt\": \"Date\", \"AverageTemperature\":\"Average Temperature (C)\"})"
   ]
  },
  {
   "cell_type": "code",
   "execution_count": null,
   "metadata": {},
   "outputs": [],
   "source": [
    "ca_weather.to_csv(\"Resources/Cleaned Weather Data/CAWeatherCleaned.csv\")\n",
    "il_weather.to_csv(\"Resources/Cleaned Weather Data/ILWeatherCleaned.csv\")\n",
    "fl_weather.to_csv(\"Resources/Cleaned Weather Data/FLWeatherCleaned.csv\")"
   ]
  },
  {
   "cell_type": "code",
   "execution_count": null,
   "metadata": {},
   "outputs": [],
   "source": []
  },
  {
   "cell_type": "code",
   "execution_count": null,
   "metadata": {},
   "outputs": [],
   "source": []
  }
 ],
 "metadata": {
  "kernelspec": {
   "display_name": "Python 3",
   "language": "python",
   "name": "python3"
  },
  "language_info": {
   "codemirror_mode": {
    "name": "ipython",
    "version": 3
   },
   "file_extension": ".py",
   "mimetype": "text/x-python",
   "name": "python",
   "nbconvert_exporter": "python",
   "pygments_lexer": "ipython3",
   "version": "3.7.6"
  }
 },
 "nbformat": 4,
 "nbformat_minor": 4
}
